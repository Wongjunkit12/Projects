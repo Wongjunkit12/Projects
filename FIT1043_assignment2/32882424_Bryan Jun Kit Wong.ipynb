{
 "cells": [
  {
   "cell_type": "markdown",
   "metadata": {},
   "source": [
    "Name: Bryan Jun Kit Wong\n",
    "<br>\n",
    "Student ID: 32882424"
   ]
  },
  {
   "cell_type": "code",
   "execution_count": 2,
   "metadata": {},
   "outputs": [],
   "source": [
    "# Import all modules needed for this assignment.\n",
    "import pandas as pd\n",
    "import numpy as np\n",
    "from matplotlib import pyplot as plt\n",
    "from sklearn.model_selection import train_test_split\n",
    "from sklearn.preprocessing import StandardScaler\n",
    "from sklearn.tree import DecisionTreeClassifier\n",
    "from sklearn.metrics import classification_report, confusion_matrix, ConfusionMatrixDisplay\n",
    "from sklearn.cluster import KMeans\n",
    "%matplotlib inline"
   ]
  },
  {
   "cell_type": "markdown",
   "metadata": {},
   "source": [
    "Read the CSV file and assign it to variable `a_road_deaths`"
   ]
  },
  {
   "cell_type": "code",
   "execution_count": 3,
   "metadata": {},
   "outputs": [],
   "source": [
    "# Read the CSV and assign it to variable a_road_deaths.\n",
    "a_road_deaths = pd.read_csv(\"Australian_Road_Deaths.csv\")"
   ]
  },
  {
   "cell_type": "markdown",
   "metadata": {},
   "source": [
    "# Task A"
   ]
  },
  {
   "cell_type": "markdown",
   "metadata": {},
   "source": [
    "## Task A1"
   ]
  },
  {
   "cell_type": "code",
   "execution_count": 4,
   "metadata": {},
   "outputs": [
    {
     "data": {
      "text/plain": [
       "(9140, 22)"
      ]
     },
     "execution_count": 4,
     "metadata": {},
     "output_type": "execute_result"
    }
   ],
   "source": [
    "# Print the dimensions of the dataset.\n",
    "a_road_deaths.shape"
   ]
  },
  {
   "cell_type": "markdown",
   "metadata": {},
   "source": [
    "The above output of `(9140, 22)` signifies the amount of data instances and variables exist in this data set via displaying their rows and columns. \n",
    "<br>\n",
    "In this case, there are 9140 rows and 22 columns."
   ]
  },
  {
   "cell_type": "markdown",
   "metadata": {},
   "source": [
    "## Task A2"
   ]
  },
  {
   "cell_type": "code",
   "execution_count": 5,
   "metadata": {},
   "outputs": [
    {
     "data": {
      "text/plain": [
       "5"
      ]
     },
     "execution_count": 5,
     "metadata": {},
     "output_type": "execute_result"
    }
   ],
   "source": [
    "# Count the number of unique rows in National Remoteness Areas.\n",
    "a_road_deaths[\"National Remoteness Areas\"].nunique()"
   ]
  },
  {
   "cell_type": "code",
   "execution_count": 6,
   "metadata": {},
   "outputs": [
    {
     "data": {
      "text/plain": [
       "88"
      ]
     },
     "execution_count": 6,
     "metadata": {},
     "output_type": "execute_result"
    }
   ],
   "source": [
    "# Count the number of unique rows in SA4 Name 2016.\n",
    "a_road_deaths[\"SA4 Name 2016\"].nunique()"
   ]
  },
  {
   "cell_type": "code",
   "execution_count": 7,
   "metadata": {},
   "outputs": [
    {
     "data": {
      "text/plain": [
       "500"
      ]
     },
     "execution_count": 7,
     "metadata": {},
     "output_type": "execute_result"
    }
   ],
   "source": [
    "# Count the number of unique rows in National LGA Name 2017.\n",
    "a_road_deaths[\"National LGA Name 2017\"].nunique()"
   ]
  },
  {
   "cell_type": "code",
   "execution_count": 8,
   "metadata": {},
   "outputs": [
    {
     "data": {
      "text/plain": [
       "9"
      ]
     },
     "execution_count": 8,
     "metadata": {},
     "output_type": "execute_result"
    }
   ],
   "source": [
    "# Count the number of unique rows in National Road Type.\n",
    "a_road_deaths[\"National Road Type\"].nunique()"
   ]
  },
  {
   "cell_type": "markdown",
   "metadata": {},
   "source": [
    "Number of unique values in the column `National Remoteness Areas`, `SA4 Name 2016`, `National LGA Name 2017` and `National Road Type` is 5, 88, 500 and 9 respectively."
   ]
  },
  {
   "cell_type": "markdown",
   "metadata": {},
   "source": [
    "## Task A3"
   ]
  },
  {
   "cell_type": "markdown",
   "metadata": {},
   "source": [
    "### 1."
   ]
  },
  {
   "cell_type": "code",
   "execution_count": 9,
   "metadata": {},
   "outputs": [
    {
     "data": {
      "text/plain": [
       "(1, 22)"
      ]
     },
     "execution_count": 9,
     "metadata": {},
     "output_type": "execute_result"
    }
   ],
   "source": [
    "# Filters out rows only with the value \"Unspecified\" in them for the whole dataframe. Will output the shape of the table.\n",
    "a_road_deaths[a_road_deaths.eq(\"Unspecified\").any(1)].shape"
   ]
  },
  {
   "cell_type": "code",
   "execution_count": 10,
   "metadata": {},
   "outputs": [
    {
     "data": {
      "text/plain": [
       "(15, 22)"
      ]
     },
     "execution_count": 10,
     "metadata": {},
     "output_type": "execute_result"
    }
   ],
   "source": [
    "# Filters out rows only with the value \"Undetermined\" in them for the whole dataframe. Will output the shape of the table.\n",
    "a_road_deaths[a_road_deaths.eq(\"Undetermined\").any(1)].shape"
   ]
  },
  {
   "cell_type": "code",
   "execution_count": 11,
   "metadata": {},
   "outputs": [
    {
     "data": {
      "text/plain": [
       "(2287, 22)"
      ]
     },
     "execution_count": 11,
     "metadata": {},
     "output_type": "execute_result"
    }
   ],
   "source": [
    "# Filters out rows that are blank (NaN) in them for the whole dataframe. Will output the shape of the table.\n",
    "a_road_deaths[a_road_deaths.isnull().any(1)].shape"
   ]
  },
  {
   "cell_type": "code",
   "execution_count": 12,
   "metadata": {},
   "outputs": [
    {
     "data": {
      "text/plain": [
       "(2302, 22)"
      ]
     },
     "execution_count": 12,
     "metadata": {},
     "output_type": "execute_result"
    }
   ],
   "source": [
    "# Will filter out all the rows that does not have a missing value.\n",
    "missing_values = a_road_deaths[(a_road_deaths.eq(\"Unspecified\").any(1)) | (a_road_deaths.eq(\"Undetermined\").any(1)) | (a_road_deaths.isnull().any(1))]\n",
    "missing_values.shape"
   ]
  },
  {
   "cell_type": "markdown",
   "metadata": {},
   "source": [
    "As shown above, there are 1 row with the `Unspecified` value, 15 rows that are `Undetermined` and 2287 rows that are `blank`. In total, there are 2302 rows with missing values in the whole dataframe."
   ]
  },
  {
   "cell_type": "markdown",
   "metadata": {},
   "source": [
    "### 2."
   ]
  },
  {
   "cell_type": "code",
   "execution_count": 13,
   "metadata": {},
   "outputs": [
    {
     "data": {
      "text/plain": [
       "[1, 2, 3, 4, 5, 6, 7, 8, 9, 10, 11, 12]"
      ]
     },
     "execution_count": 13,
     "metadata": {},
     "output_type": "execute_result"
    }
   ],
   "source": [
    "# Deep copy the original dataframe.\n",
    "road_date = a_road_deaths.copy()\n",
    "# Replaces the YYYYMM datatype (int 64) by converting it to (datatime64[ns]).\n",
    "road_date[\"YYYYMM\"] = pd.to_datetime(road_date.YYYYMM, yearfirst=True, format=\"%Y%m\")\n",
    "\n",
    "# Create two new columns in the original dataframe that extracts the YEAR and Month from the YYYYMM column.\n",
    "a_road_deaths = a_road_deaths.assign(Year = road_date[\"YYYYMM\"].dt.year)\n",
    "a_road_deaths = a_road_deaths.assign(Month = road_date[\"YYYYMM\"].dt.month)\n",
    "\n",
    "# Pop the whole Year and Month column from the dataframe.\n",
    "year = a_road_deaths.pop(\"Year\")\n",
    "month = a_road_deaths.pop(\"Month\")\n",
    "# Insert them at a specified position in the dataframe so that they are after YYYYMM column.\n",
    "a_road_deaths.insert(3, \"Year\", year)\n",
    "a_road_deaths.insert(4, \"Month\", month)\n",
    "\n",
    "# Find all unique months with missing values in them.\n",
    "months_with_missing = a_road_deaths[((a_road_deaths.eq(\"Unspecified\").any(1)) | (a_road_deaths.eq(\"Undetermined\").any(1)) | (a_road_deaths.isnull().any(1)))][\"Month\"].unique()\n",
    "sorted(months_with_missing) # Print out an array containing all unique months that at least have one missing value in them."
   ]
  },
  {
   "cell_type": "markdown",
   "metadata": {},
   "source": [
    "The months_with_missing is an array filled with every unique month that contains at least one missing value. Since every month from 1 - 12 has a missing value, there are ZERO unique months that contains no missing values."
   ]
  },
  {
   "cell_type": "markdown",
   "metadata": {},
   "source": [
    "### 3."
   ]
  },
  {
   "cell_type": "code",
   "execution_count": 14,
   "metadata": {},
   "outputs": [
    {
     "data": {
      "text/html": [
       "<div>\n",
       "<style scoped>\n",
       "    .dataframe tbody tr th:only-of-type {\n",
       "        vertical-align: middle;\n",
       "    }\n",
       "\n",
       "    .dataframe tbody tr th {\n",
       "        vertical-align: top;\n",
       "    }\n",
       "\n",
       "    .dataframe thead th {\n",
       "        text-align: right;\n",
       "    }\n",
       "</style>\n",
       "<table border=\"1\" class=\"dataframe\">\n",
       "  <thead>\n",
       "    <tr style=\"text-align: right;\">\n",
       "      <th></th>\n",
       "      <th>Crash ID</th>\n",
       "      <th>State</th>\n",
       "      <th>YYYYMM</th>\n",
       "      <th>Year</th>\n",
       "      <th>Month</th>\n",
       "      <th>Day of week</th>\n",
       "      <th>Time</th>\n",
       "      <th>Crash Type</th>\n",
       "      <th>Bus Involvement</th>\n",
       "      <th>Heavy Rigid Truck Involvement</th>\n",
       "      <th>...</th>\n",
       "      <th>Speed</th>\n",
       "      <th>Driving experience</th>\n",
       "      <th>National Remoteness Areas</th>\n",
       "      <th>SA4 Name 2016</th>\n",
       "      <th>National LGA Name 2017</th>\n",
       "      <th>National Road Type</th>\n",
       "      <th>Christmas Period</th>\n",
       "      <th>Easter Period</th>\n",
       "      <th>Age Group</th>\n",
       "      <th>Time of day</th>\n",
       "    </tr>\n",
       "  </thead>\n",
       "  <tbody>\n",
       "    <tr>\n",
       "      <th>0</th>\n",
       "      <td>20213034</td>\n",
       "      <td>Qld</td>\n",
       "      <td>202109</td>\n",
       "      <td>2021</td>\n",
       "      <td>9</td>\n",
       "      <td>Saturday</td>\n",
       "      <td>4:00:00</td>\n",
       "      <td>Multiple</td>\n",
       "      <td>No</td>\n",
       "      <td>No</td>\n",
       "      <td>...</td>\n",
       "      <td>41</td>\n",
       "      <td>3</td>\n",
       "      <td>Major Cities of Australia</td>\n",
       "      <td>Brisbane - South</td>\n",
       "      <td>Brisbane (C)</td>\n",
       "      <td>Busway</td>\n",
       "      <td>No</td>\n",
       "      <td>No</td>\n",
       "      <td>17_to_25</td>\n",
       "      <td>Night</td>\n",
       "    </tr>\n",
       "    <tr>\n",
       "      <th>1</th>\n",
       "      <td>20213026</td>\n",
       "      <td>Qld</td>\n",
       "      <td>202109</td>\n",
       "      <td>2021</td>\n",
       "      <td>9</td>\n",
       "      <td>Wednesday</td>\n",
       "      <td>23:00:00</td>\n",
       "      <td>Multiple</td>\n",
       "      <td>No</td>\n",
       "      <td>No</td>\n",
       "      <td>...</td>\n",
       "      <td>20</td>\n",
       "      <td>3</td>\n",
       "      <td>Major Cities of Australia</td>\n",
       "      <td>Ipswich</td>\n",
       "      <td>Ipswich (C)</td>\n",
       "      <td>National or State Highway</td>\n",
       "      <td>No</td>\n",
       "      <td>No</td>\n",
       "      <td>0_to_16</td>\n",
       "      <td>Night</td>\n",
       "    </tr>\n",
       "    <tr>\n",
       "      <th>2</th>\n",
       "      <td>20213092</td>\n",
       "      <td>Qld</td>\n",
       "      <td>202109</td>\n",
       "      <td>2021</td>\n",
       "      <td>9</td>\n",
       "      <td>Saturday</td>\n",
       "      <td>2:00:00</td>\n",
       "      <td>Single</td>\n",
       "      <td>No</td>\n",
       "      <td>No</td>\n",
       "      <td>...</td>\n",
       "      <td>53</td>\n",
       "      <td>12</td>\n",
       "      <td>Major Cities of Australia</td>\n",
       "      <td>Logan - Beaudesert</td>\n",
       "      <td>Logan (C)</td>\n",
       "      <td>Local Road</td>\n",
       "      <td>No</td>\n",
       "      <td>No</td>\n",
       "      <td>40_to_64</td>\n",
       "      <td>Night</td>\n",
       "    </tr>\n",
       "    <tr>\n",
       "      <th>3</th>\n",
       "      <td>20214053</td>\n",
       "      <td>SA</td>\n",
       "      <td>202109</td>\n",
       "      <td>2021</td>\n",
       "      <td>9</td>\n",
       "      <td>Thursday</td>\n",
       "      <td>21:00:00</td>\n",
       "      <td>Single</td>\n",
       "      <td>No</td>\n",
       "      <td>No</td>\n",
       "      <td>...</td>\n",
       "      <td>140</td>\n",
       "      <td>7</td>\n",
       "      <td>Inner Regional Australia</td>\n",
       "      <td>Adelaide - Central and Hills</td>\n",
       "      <td>Adelaide Hills (DC)</td>\n",
       "      <td>Sub-Arterial Road</td>\n",
       "      <td>No</td>\n",
       "      <td>No</td>\n",
       "      <td>17_to_25</td>\n",
       "      <td>Night</td>\n",
       "    </tr>\n",
       "    <tr>\n",
       "      <th>4</th>\n",
       "      <td>20213178</td>\n",
       "      <td>Qld</td>\n",
       "      <td>202109</td>\n",
       "      <td>2021</td>\n",
       "      <td>9</td>\n",
       "      <td>Sunday</td>\n",
       "      <td>21:00:00</td>\n",
       "      <td>Multiple</td>\n",
       "      <td>No</td>\n",
       "      <td>No</td>\n",
       "      <td>...</td>\n",
       "      <td>71</td>\n",
       "      <td>29</td>\n",
       "      <td>Major Cities of Australia</td>\n",
       "      <td>Gold Coast</td>\n",
       "      <td>Gold Coast (C)</td>\n",
       "      <td>Local Road</td>\n",
       "      <td>No</td>\n",
       "      <td>No</td>\n",
       "      <td>40_to_64</td>\n",
       "      <td>Night</td>\n",
       "    </tr>\n",
       "    <tr>\n",
       "      <th>...</th>\n",
       "      <td>...</td>\n",
       "      <td>...</td>\n",
       "      <td>...</td>\n",
       "      <td>...</td>\n",
       "      <td>...</td>\n",
       "      <td>...</td>\n",
       "      <td>...</td>\n",
       "      <td>...</td>\n",
       "      <td>...</td>\n",
       "      <td>...</td>\n",
       "      <td>...</td>\n",
       "      <td>...</td>\n",
       "      <td>...</td>\n",
       "      <td>...</td>\n",
       "      <td>...</td>\n",
       "      <td>...</td>\n",
       "      <td>...</td>\n",
       "      <td>...</td>\n",
       "      <td>...</td>\n",
       "      <td>...</td>\n",
       "      <td>...</td>\n",
       "    </tr>\n",
       "    <tr>\n",
       "      <th>6833</th>\n",
       "      <td>20144083</td>\n",
       "      <td>SA</td>\n",
       "      <td>201401</td>\n",
       "      <td>2014</td>\n",
       "      <td>1</td>\n",
       "      <td>Friday</td>\n",
       "      <td>11:10:00</td>\n",
       "      <td>Multiple</td>\n",
       "      <td>No</td>\n",
       "      <td>Yes</td>\n",
       "      <td>...</td>\n",
       "      <td>20</td>\n",
       "      <td>14</td>\n",
       "      <td>Outer Regional Australia</td>\n",
       "      <td>South Australia - South East</td>\n",
       "      <td>The Coorong (DC)</td>\n",
       "      <td>National or State Highway</td>\n",
       "      <td>No</td>\n",
       "      <td>No</td>\n",
       "      <td>40_to_64</td>\n",
       "      <td>Day</td>\n",
       "    </tr>\n",
       "    <tr>\n",
       "      <th>6834</th>\n",
       "      <td>20145108</td>\n",
       "      <td>WA</td>\n",
       "      <td>201401</td>\n",
       "      <td>2014</td>\n",
       "      <td>1</td>\n",
       "      <td>Wednesday</td>\n",
       "      <td>11:47:00</td>\n",
       "      <td>Single</td>\n",
       "      <td>No</td>\n",
       "      <td>No</td>\n",
       "      <td>...</td>\n",
       "      <td>142</td>\n",
       "      <td>15</td>\n",
       "      <td>Major Cities of Australia</td>\n",
       "      <td>Perth - South East</td>\n",
       "      <td>Belmont (C)</td>\n",
       "      <td>National or State Highway</td>\n",
       "      <td>Yes</td>\n",
       "      <td>No</td>\n",
       "      <td>40_to_64</td>\n",
       "      <td>Day</td>\n",
       "    </tr>\n",
       "    <tr>\n",
       "      <th>6835</th>\n",
       "      <td>20144022</td>\n",
       "      <td>SA</td>\n",
       "      <td>201401</td>\n",
       "      <td>2014</td>\n",
       "      <td>1</td>\n",
       "      <td>Monday</td>\n",
       "      <td>9:35:00</td>\n",
       "      <td>Single</td>\n",
       "      <td>No</td>\n",
       "      <td>No</td>\n",
       "      <td>...</td>\n",
       "      <td>0</td>\n",
       "      <td>45</td>\n",
       "      <td>Major Cities of Australia</td>\n",
       "      <td>Adelaide - North</td>\n",
       "      <td>Tea Tree Gully (C)</td>\n",
       "      <td>Local Road</td>\n",
       "      <td>No</td>\n",
       "      <td>No</td>\n",
       "      <td>75_or_older</td>\n",
       "      <td>Day</td>\n",
       "    </tr>\n",
       "    <tr>\n",
       "      <th>6836</th>\n",
       "      <td>20145072</td>\n",
       "      <td>WA</td>\n",
       "      <td>201401</td>\n",
       "      <td>2014</td>\n",
       "      <td>1</td>\n",
       "      <td>Tuesday</td>\n",
       "      <td>21:30:00</td>\n",
       "      <td>Single</td>\n",
       "      <td>No</td>\n",
       "      <td>No</td>\n",
       "      <td>...</td>\n",
       "      <td>74</td>\n",
       "      <td>43</td>\n",
       "      <td>Remote Australia</td>\n",
       "      <td>Western Australia - Outback (South)</td>\n",
       "      <td>Esperance (S)</td>\n",
       "      <td>National or State Highway</td>\n",
       "      <td>No</td>\n",
       "      <td>No</td>\n",
       "      <td>75_or_older</td>\n",
       "      <td>Night</td>\n",
       "    </tr>\n",
       "    <tr>\n",
       "      <th>6837</th>\n",
       "      <td>20144007</td>\n",
       "      <td>SA</td>\n",
       "      <td>201401</td>\n",
       "      <td>2014</td>\n",
       "      <td>1</td>\n",
       "      <td>Tuesday</td>\n",
       "      <td>20:00:00</td>\n",
       "      <td>Single</td>\n",
       "      <td>No</td>\n",
       "      <td>No</td>\n",
       "      <td>...</td>\n",
       "      <td>0</td>\n",
       "      <td>41</td>\n",
       "      <td>Major Cities of Australia</td>\n",
       "      <td>Adelaide - North</td>\n",
       "      <td>Playford (C)</td>\n",
       "      <td>Local Road</td>\n",
       "      <td>No</td>\n",
       "      <td>No</td>\n",
       "      <td>75_or_older</td>\n",
       "      <td>Night</td>\n",
       "    </tr>\n",
       "  </tbody>\n",
       "</table>\n",
       "<p>6838 rows × 24 columns</p>\n",
       "</div>"
      ],
      "text/plain": [
       "      Crash ID State  YYYYMM  Year  Month Day of week      Time Crash Type  \\\n",
       "0     20213034   Qld  202109  2021      9    Saturday   4:00:00   Multiple   \n",
       "1     20213026   Qld  202109  2021      9   Wednesday  23:00:00   Multiple   \n",
       "2     20213092   Qld  202109  2021      9    Saturday   2:00:00     Single   \n",
       "3     20214053    SA  202109  2021      9    Thursday  21:00:00     Single   \n",
       "4     20213178   Qld  202109  2021      9      Sunday  21:00:00   Multiple   \n",
       "...        ...   ...     ...   ...    ...         ...       ...        ...   \n",
       "6833  20144083    SA  201401  2014      1      Friday  11:10:00   Multiple   \n",
       "6834  20145108    WA  201401  2014      1   Wednesday  11:47:00     Single   \n",
       "6835  20144022    SA  201401  2014      1      Monday   9:35:00     Single   \n",
       "6836  20145072    WA  201401  2014      1     Tuesday  21:30:00     Single   \n",
       "6837  20144007    SA  201401  2014      1     Tuesday  20:00:00     Single   \n",
       "\n",
       "     Bus Involvement Heavy Rigid Truck Involvement  ... Speed  \\\n",
       "0                 No                            No  ...    41   \n",
       "1                 No                            No  ...    20   \n",
       "2                 No                            No  ...    53   \n",
       "3                 No                            No  ...   140   \n",
       "4                 No                            No  ...    71   \n",
       "...              ...                           ...  ...   ...   \n",
       "6833              No                           Yes  ...    20   \n",
       "6834              No                            No  ...   142   \n",
       "6835              No                            No  ...     0   \n",
       "6836              No                            No  ...    74   \n",
       "6837              No                            No  ...     0   \n",
       "\n",
       "     Driving experience  National Remoteness Areas  \\\n",
       "0                     3  Major Cities of Australia   \n",
       "1                     3  Major Cities of Australia   \n",
       "2                    12  Major Cities of Australia   \n",
       "3                     7   Inner Regional Australia   \n",
       "4                    29  Major Cities of Australia   \n",
       "...                 ...                        ...   \n",
       "6833                 14   Outer Regional Australia   \n",
       "6834                 15  Major Cities of Australia   \n",
       "6835                 45  Major Cities of Australia   \n",
       "6836                 43           Remote Australia   \n",
       "6837                 41  Major Cities of Australia   \n",
       "\n",
       "                            SA4 Name 2016  National LGA Name 2017  \\\n",
       "0                        Brisbane - South            Brisbane (C)   \n",
       "1                                 Ipswich             Ipswich (C)   \n",
       "2                      Logan - Beaudesert               Logan (C)   \n",
       "3            Adelaide - Central and Hills     Adelaide Hills (DC)   \n",
       "4                              Gold Coast          Gold Coast (C)   \n",
       "...                                   ...                     ...   \n",
       "6833         South Australia - South East        The Coorong (DC)   \n",
       "6834                   Perth - South East             Belmont (C)   \n",
       "6835                     Adelaide - North      Tea Tree Gully (C)   \n",
       "6836  Western Australia - Outback (South)           Esperance (S)   \n",
       "6837                     Adelaide - North            Playford (C)   \n",
       "\n",
       "             National Road Type Christmas Period Easter Period    Age Group  \\\n",
       "0                        Busway               No            No     17_to_25   \n",
       "1     National or State Highway               No            No      0_to_16   \n",
       "2                    Local Road               No            No     40_to_64   \n",
       "3             Sub-Arterial Road               No            No     17_to_25   \n",
       "4                    Local Road               No            No     40_to_64   \n",
       "...                         ...              ...           ...          ...   \n",
       "6833  National or State Highway               No            No     40_to_64   \n",
       "6834  National or State Highway              Yes            No     40_to_64   \n",
       "6835                 Local Road               No            No  75_or_older   \n",
       "6836  National or State Highway               No            No  75_or_older   \n",
       "6837                 Local Road               No            No  75_or_older   \n",
       "\n",
       "     Time of day  \n",
       "0          Night  \n",
       "1          Night  \n",
       "2          Night  \n",
       "3          Night  \n",
       "4          Night  \n",
       "...          ...  \n",
       "6833         Day  \n",
       "6834         Day  \n",
       "6835         Day  \n",
       "6836       Night  \n",
       "6837       Night  \n",
       "\n",
       "[6838 rows x 24 columns]"
      ]
     },
     "execution_count": 14,
     "metadata": {},
     "output_type": "execute_result"
    }
   ],
   "source": [
    "# Drop all missing values from the original dataframe.\n",
    "a_road_deaths = a_road_deaths.drop(missing_values.index)\n",
    "# Flattens the table. Will drop the index column and replace the original table with the new index.\n",
    "a_road_deaths.reset_index(drop=True, inplace = True)\n",
    "a_road_deaths"
   ]
  },
  {
   "cell_type": "markdown",
   "metadata": {},
   "source": [
    "Above shows the new dataframe with all missing values (`Unspecified` or `Undetermined` or\n",
    "blank) removed."
   ]
  },
  {
   "cell_type": "markdown",
   "metadata": {},
   "source": [
    "### 4."
   ]
  },
  {
   "cell_type": "code",
   "execution_count": 15,
   "metadata": {},
   "outputs": [
    {
     "data": {
      "text/html": [
       "<div>\n",
       "<style scoped>\n",
       "    .dataframe tbody tr th:only-of-type {\n",
       "        vertical-align: middle;\n",
       "    }\n",
       "\n",
       "    .dataframe tbody tr th {\n",
       "        vertical-align: top;\n",
       "    }\n",
       "\n",
       "    .dataframe thead th {\n",
       "        text-align: right;\n",
       "    }\n",
       "</style>\n",
       "<table border=\"1\" class=\"dataframe\">\n",
       "  <thead>\n",
       "    <tr style=\"text-align: right;\">\n",
       "      <th></th>\n",
       "      <th>Crash ID</th>\n",
       "      <th>State</th>\n",
       "      <th>YYYYMM</th>\n",
       "      <th>Year</th>\n",
       "      <th>Month</th>\n",
       "      <th>Day of week</th>\n",
       "      <th>Time</th>\n",
       "      <th>Crash Type</th>\n",
       "      <th>Bus Involvement</th>\n",
       "      <th>Heavy Rigid Truck Involvement</th>\n",
       "      <th>...</th>\n",
       "      <th>Speed</th>\n",
       "      <th>Driving experience</th>\n",
       "      <th>National Remoteness Areas</th>\n",
       "      <th>SA4 Name 2016</th>\n",
       "      <th>National LGA Name 2017</th>\n",
       "      <th>National Road Type</th>\n",
       "      <th>Christmas Period</th>\n",
       "      <th>Easter Period</th>\n",
       "      <th>Age Group</th>\n",
       "      <th>Time of day</th>\n",
       "    </tr>\n",
       "  </thead>\n",
       "  <tbody>\n",
       "    <tr>\n",
       "      <th>0</th>\n",
       "      <td>20213034</td>\n",
       "      <td>Qld</td>\n",
       "      <td>202109</td>\n",
       "      <td>2021</td>\n",
       "      <td>9</td>\n",
       "      <td>Saturday</td>\n",
       "      <td>4:00:00</td>\n",
       "      <td>Multiple</td>\n",
       "      <td>No</td>\n",
       "      <td>No</td>\n",
       "      <td>...</td>\n",
       "      <td>41</td>\n",
       "      <td>3</td>\n",
       "      <td>Major Cities of Australia</td>\n",
       "      <td>Brisbane - South</td>\n",
       "      <td>Brisbane (C)</td>\n",
       "      <td>Busway</td>\n",
       "      <td>No</td>\n",
       "      <td>No</td>\n",
       "      <td>17_to_25</td>\n",
       "      <td>Night</td>\n",
       "    </tr>\n",
       "    <tr>\n",
       "      <th>1</th>\n",
       "      <td>20213026</td>\n",
       "      <td>Qld</td>\n",
       "      <td>202109</td>\n",
       "      <td>2021</td>\n",
       "      <td>9</td>\n",
       "      <td>Wednesday</td>\n",
       "      <td>23:00:00</td>\n",
       "      <td>Multiple</td>\n",
       "      <td>No</td>\n",
       "      <td>No</td>\n",
       "      <td>...</td>\n",
       "      <td>20</td>\n",
       "      <td>3</td>\n",
       "      <td>Major Cities of Australia</td>\n",
       "      <td>Ipswich</td>\n",
       "      <td>Ipswich (C)</td>\n",
       "      <td>National or State Highway</td>\n",
       "      <td>No</td>\n",
       "      <td>No</td>\n",
       "      <td>0_to_16</td>\n",
       "      <td>Night</td>\n",
       "    </tr>\n",
       "    <tr>\n",
       "      <th>2</th>\n",
       "      <td>20213092</td>\n",
       "      <td>Qld</td>\n",
       "      <td>202109</td>\n",
       "      <td>2021</td>\n",
       "      <td>9</td>\n",
       "      <td>Saturday</td>\n",
       "      <td>2:00:00</td>\n",
       "      <td>Single</td>\n",
       "      <td>No</td>\n",
       "      <td>No</td>\n",
       "      <td>...</td>\n",
       "      <td>53</td>\n",
       "      <td>12</td>\n",
       "      <td>Major Cities of Australia</td>\n",
       "      <td>Logan - Beaudesert</td>\n",
       "      <td>Logan (C)</td>\n",
       "      <td>Local Road</td>\n",
       "      <td>No</td>\n",
       "      <td>No</td>\n",
       "      <td>40_to_64</td>\n",
       "      <td>Night</td>\n",
       "    </tr>\n",
       "    <tr>\n",
       "      <th>3</th>\n",
       "      <td>20214053</td>\n",
       "      <td>SA</td>\n",
       "      <td>202109</td>\n",
       "      <td>2021</td>\n",
       "      <td>9</td>\n",
       "      <td>Thursday</td>\n",
       "      <td>21:00:00</td>\n",
       "      <td>Single</td>\n",
       "      <td>No</td>\n",
       "      <td>No</td>\n",
       "      <td>...</td>\n",
       "      <td>140</td>\n",
       "      <td>7</td>\n",
       "      <td>Inner Regional Australia</td>\n",
       "      <td>Adelaide - Central and Hills</td>\n",
       "      <td>Adelaide Hills (DC)</td>\n",
       "      <td>Sub-Arterial Road</td>\n",
       "      <td>No</td>\n",
       "      <td>No</td>\n",
       "      <td>17_to_25</td>\n",
       "      <td>Night</td>\n",
       "    </tr>\n",
       "    <tr>\n",
       "      <th>4</th>\n",
       "      <td>20213178</td>\n",
       "      <td>Qld</td>\n",
       "      <td>202109</td>\n",
       "      <td>2021</td>\n",
       "      <td>9</td>\n",
       "      <td>Sunday</td>\n",
       "      <td>21:00:00</td>\n",
       "      <td>Multiple</td>\n",
       "      <td>No</td>\n",
       "      <td>No</td>\n",
       "      <td>...</td>\n",
       "      <td>71</td>\n",
       "      <td>29</td>\n",
       "      <td>Major Cities of Australia</td>\n",
       "      <td>Gold Coast</td>\n",
       "      <td>Gold Coast (C)</td>\n",
       "      <td>Local Road</td>\n",
       "      <td>No</td>\n",
       "      <td>No</td>\n",
       "      <td>40_to_64</td>\n",
       "      <td>Night</td>\n",
       "    </tr>\n",
       "    <tr>\n",
       "      <th>...</th>\n",
       "      <td>...</td>\n",
       "      <td>...</td>\n",
       "      <td>...</td>\n",
       "      <td>...</td>\n",
       "      <td>...</td>\n",
       "      <td>...</td>\n",
       "      <td>...</td>\n",
       "      <td>...</td>\n",
       "      <td>...</td>\n",
       "      <td>...</td>\n",
       "      <td>...</td>\n",
       "      <td>...</td>\n",
       "      <td>...</td>\n",
       "      <td>...</td>\n",
       "      <td>...</td>\n",
       "      <td>...</td>\n",
       "      <td>...</td>\n",
       "      <td>...</td>\n",
       "      <td>...</td>\n",
       "      <td>...</td>\n",
       "      <td>...</td>\n",
       "    </tr>\n",
       "    <tr>\n",
       "      <th>6833</th>\n",
       "      <td>20144083</td>\n",
       "      <td>SA</td>\n",
       "      <td>201401</td>\n",
       "      <td>2014</td>\n",
       "      <td>1</td>\n",
       "      <td>Friday</td>\n",
       "      <td>11:10:00</td>\n",
       "      <td>Multiple</td>\n",
       "      <td>No</td>\n",
       "      <td>Yes</td>\n",
       "      <td>...</td>\n",
       "      <td>20</td>\n",
       "      <td>14</td>\n",
       "      <td>Outer Regional Australia</td>\n",
       "      <td>South Australia - South East</td>\n",
       "      <td>The Coorong (DC)</td>\n",
       "      <td>National or State Highway</td>\n",
       "      <td>No</td>\n",
       "      <td>No</td>\n",
       "      <td>40_to_64</td>\n",
       "      <td>Day</td>\n",
       "    </tr>\n",
       "    <tr>\n",
       "      <th>6834</th>\n",
       "      <td>20145108</td>\n",
       "      <td>WA</td>\n",
       "      <td>201401</td>\n",
       "      <td>2014</td>\n",
       "      <td>1</td>\n",
       "      <td>Wednesday</td>\n",
       "      <td>11:47:00</td>\n",
       "      <td>Single</td>\n",
       "      <td>No</td>\n",
       "      <td>No</td>\n",
       "      <td>...</td>\n",
       "      <td>142</td>\n",
       "      <td>15</td>\n",
       "      <td>Major Cities of Australia</td>\n",
       "      <td>Perth - South East</td>\n",
       "      <td>Belmont (C)</td>\n",
       "      <td>National or State Highway</td>\n",
       "      <td>Yes</td>\n",
       "      <td>No</td>\n",
       "      <td>40_to_64</td>\n",
       "      <td>Day</td>\n",
       "    </tr>\n",
       "    <tr>\n",
       "      <th>6835</th>\n",
       "      <td>20144022</td>\n",
       "      <td>SA</td>\n",
       "      <td>201401</td>\n",
       "      <td>2014</td>\n",
       "      <td>1</td>\n",
       "      <td>Monday</td>\n",
       "      <td>9:35:00</td>\n",
       "      <td>Single</td>\n",
       "      <td>No</td>\n",
       "      <td>No</td>\n",
       "      <td>...</td>\n",
       "      <td>0</td>\n",
       "      <td>45</td>\n",
       "      <td>Major Cities of Australia</td>\n",
       "      <td>Adelaide - North</td>\n",
       "      <td>Tea Tree Gully (C)</td>\n",
       "      <td>Local Road</td>\n",
       "      <td>No</td>\n",
       "      <td>No</td>\n",
       "      <td>75_or_older</td>\n",
       "      <td>Day</td>\n",
       "    </tr>\n",
       "    <tr>\n",
       "      <th>6836</th>\n",
       "      <td>20145072</td>\n",
       "      <td>WA</td>\n",
       "      <td>201401</td>\n",
       "      <td>2014</td>\n",
       "      <td>1</td>\n",
       "      <td>Tuesday</td>\n",
       "      <td>21:30:00</td>\n",
       "      <td>Single</td>\n",
       "      <td>No</td>\n",
       "      <td>No</td>\n",
       "      <td>...</td>\n",
       "      <td>74</td>\n",
       "      <td>43</td>\n",
       "      <td>Remote Australia</td>\n",
       "      <td>Western Australia - Outback (South)</td>\n",
       "      <td>Esperance (S)</td>\n",
       "      <td>National or State Highway</td>\n",
       "      <td>No</td>\n",
       "      <td>No</td>\n",
       "      <td>75_or_older</td>\n",
       "      <td>Night</td>\n",
       "    </tr>\n",
       "    <tr>\n",
       "      <th>6837</th>\n",
       "      <td>20144007</td>\n",
       "      <td>SA</td>\n",
       "      <td>201401</td>\n",
       "      <td>2014</td>\n",
       "      <td>1</td>\n",
       "      <td>Tuesday</td>\n",
       "      <td>20:00:00</td>\n",
       "      <td>Single</td>\n",
       "      <td>No</td>\n",
       "      <td>No</td>\n",
       "      <td>...</td>\n",
       "      <td>0</td>\n",
       "      <td>41</td>\n",
       "      <td>Major Cities of Australia</td>\n",
       "      <td>Adelaide - North</td>\n",
       "      <td>Playford (C)</td>\n",
       "      <td>Local Road</td>\n",
       "      <td>No</td>\n",
       "      <td>No</td>\n",
       "      <td>75_or_older</td>\n",
       "      <td>Night</td>\n",
       "    </tr>\n",
       "  </tbody>\n",
       "</table>\n",
       "<p>6822 rows × 24 columns</p>\n",
       "</div>"
      ],
      "text/plain": [
       "      Crash ID State  YYYYMM  Year  Month Day of week      Time Crash Type  \\\n",
       "0     20213034   Qld  202109  2021      9    Saturday   4:00:00   Multiple   \n",
       "1     20213026   Qld  202109  2021      9   Wednesday  23:00:00   Multiple   \n",
       "2     20213092   Qld  202109  2021      9    Saturday   2:00:00     Single   \n",
       "3     20214053    SA  202109  2021      9    Thursday  21:00:00     Single   \n",
       "4     20213178   Qld  202109  2021      9      Sunday  21:00:00   Multiple   \n",
       "...        ...   ...     ...   ...    ...         ...       ...        ...   \n",
       "6833  20144083    SA  201401  2014      1      Friday  11:10:00   Multiple   \n",
       "6834  20145108    WA  201401  2014      1   Wednesday  11:47:00     Single   \n",
       "6835  20144022    SA  201401  2014      1      Monday   9:35:00     Single   \n",
       "6836  20145072    WA  201401  2014      1     Tuesday  21:30:00     Single   \n",
       "6837  20144007    SA  201401  2014      1     Tuesday  20:00:00     Single   \n",
       "\n",
       "     Bus Involvement Heavy Rigid Truck Involvement  ... Speed  \\\n",
       "0                 No                            No  ...    41   \n",
       "1                 No                            No  ...    20   \n",
       "2                 No                            No  ...    53   \n",
       "3                 No                            No  ...   140   \n",
       "4                 No                            No  ...    71   \n",
       "...              ...                           ...  ...   ...   \n",
       "6833              No                           Yes  ...    20   \n",
       "6834              No                            No  ...   142   \n",
       "6835              No                            No  ...     0   \n",
       "6836              No                            No  ...    74   \n",
       "6837              No                            No  ...     0   \n",
       "\n",
       "     Driving experience  National Remoteness Areas  \\\n",
       "0                     3  Major Cities of Australia   \n",
       "1                     3  Major Cities of Australia   \n",
       "2                    12  Major Cities of Australia   \n",
       "3                     7   Inner Regional Australia   \n",
       "4                    29  Major Cities of Australia   \n",
       "...                 ...                        ...   \n",
       "6833                 14   Outer Regional Australia   \n",
       "6834                 15  Major Cities of Australia   \n",
       "6835                 45  Major Cities of Australia   \n",
       "6836                 43           Remote Australia   \n",
       "6837                 41  Major Cities of Australia   \n",
       "\n",
       "                            SA4 Name 2016  National LGA Name 2017  \\\n",
       "0                        Brisbane - South            Brisbane (C)   \n",
       "1                                 Ipswich             Ipswich (C)   \n",
       "2                      Logan - Beaudesert               Logan (C)   \n",
       "3            Adelaide - Central and Hills     Adelaide Hills (DC)   \n",
       "4                              Gold Coast          Gold Coast (C)   \n",
       "...                                   ...                     ...   \n",
       "6833         South Australia - South East        The Coorong (DC)   \n",
       "6834                   Perth - South East             Belmont (C)   \n",
       "6835                     Adelaide - North      Tea Tree Gully (C)   \n",
       "6836  Western Australia - Outback (South)           Esperance (S)   \n",
       "6837                     Adelaide - North            Playford (C)   \n",
       "\n",
       "             National Road Type Christmas Period Easter Period    Age Group  \\\n",
       "0                        Busway               No            No     17_to_25   \n",
       "1     National or State Highway               No            No      0_to_16   \n",
       "2                    Local Road               No            No     40_to_64   \n",
       "3             Sub-Arterial Road               No            No     17_to_25   \n",
       "4                    Local Road               No            No     40_to_64   \n",
       "...                         ...              ...           ...          ...   \n",
       "6833  National or State Highway               No            No     40_to_64   \n",
       "6834  National or State Highway              Yes            No     40_to_64   \n",
       "6835                 Local Road               No            No  75_or_older   \n",
       "6836  National or State Highway               No            No  75_or_older   \n",
       "6837                 Local Road               No            No  75_or_older   \n",
       "\n",
       "     Time of day  \n",
       "0          Night  \n",
       "1          Night  \n",
       "2          Night  \n",
       "3          Night  \n",
       "4          Night  \n",
       "...          ...  \n",
       "6833         Day  \n",
       "6834         Day  \n",
       "6835         Day  \n",
       "6836       Night  \n",
       "6837       Night  \n",
       "\n",
       "[6822 rows x 24 columns]"
      ]
     },
     "execution_count": 15,
     "metadata": {},
     "output_type": "execute_result"
    }
   ],
   "source": [
    "# Remove all duplications in the table.\n",
    "a_road_deaths = a_road_deaths.drop_duplicates()\n",
    "# Print the table.\n",
    "a_road_deaths"
   ]
  },
  {
   "cell_type": "markdown",
   "metadata": {},
   "source": [
    "The output above displays the new dataframe will all missing values and duplicates removed."
   ]
  },
  {
   "cell_type": "markdown",
   "metadata": {},
   "source": [
    "## Task A4"
   ]
  },
  {
   "cell_type": "code",
   "execution_count": 16,
   "metadata": {},
   "outputs": [
    {
     "data": {
      "text/html": [
       "<div>\n",
       "<style scoped>\n",
       "    .dataframe tbody tr th:only-of-type {\n",
       "        vertical-align: middle;\n",
       "    }\n",
       "\n",
       "    .dataframe tbody tr th {\n",
       "        vertical-align: top;\n",
       "    }\n",
       "\n",
       "    .dataframe thead th {\n",
       "        text-align: right;\n",
       "    }\n",
       "</style>\n",
       "<table border=\"1\" class=\"dataframe\">\n",
       "  <thead>\n",
       "    <tr style=\"text-align: right;\">\n",
       "      <th></th>\n",
       "      <th>Month</th>\n",
       "      <th>Number of Crashes</th>\n",
       "    </tr>\n",
       "  </thead>\n",
       "  <tbody>\n",
       "    <tr>\n",
       "      <th>0</th>\n",
       "      <td>1</td>\n",
       "      <td>593</td>\n",
       "    </tr>\n",
       "    <tr>\n",
       "      <th>1</th>\n",
       "      <td>2</td>\n",
       "      <td>514</td>\n",
       "    </tr>\n",
       "    <tr>\n",
       "      <th>2</th>\n",
       "      <td>3</td>\n",
       "      <td>654</td>\n",
       "    </tr>\n",
       "    <tr>\n",
       "      <th>3</th>\n",
       "      <td>4</td>\n",
       "      <td>575</td>\n",
       "    </tr>\n",
       "    <tr>\n",
       "      <th>4</th>\n",
       "      <td>5</td>\n",
       "      <td>554</td>\n",
       "    </tr>\n",
       "    <tr>\n",
       "      <th>5</th>\n",
       "      <td>6</td>\n",
       "      <td>556</td>\n",
       "    </tr>\n",
       "    <tr>\n",
       "      <th>6</th>\n",
       "      <td>7</td>\n",
       "      <td>596</td>\n",
       "    </tr>\n",
       "    <tr>\n",
       "      <th>7</th>\n",
       "      <td>8</td>\n",
       "      <td>637</td>\n",
       "    </tr>\n",
       "    <tr>\n",
       "      <th>8</th>\n",
       "      <td>9</td>\n",
       "      <td>531</td>\n",
       "    </tr>\n",
       "    <tr>\n",
       "      <th>9</th>\n",
       "      <td>10</td>\n",
       "      <td>530</td>\n",
       "    </tr>\n",
       "    <tr>\n",
       "      <th>10</th>\n",
       "      <td>11</td>\n",
       "      <td>517</td>\n",
       "    </tr>\n",
       "    <tr>\n",
       "      <th>11</th>\n",
       "      <td>12</td>\n",
       "      <td>565</td>\n",
       "    </tr>\n",
       "  </tbody>\n",
       "</table>\n",
       "</div>"
      ],
      "text/plain": [
       "    Month  Number of Crashes\n",
       "0       1                593\n",
       "1       2                514\n",
       "2       3                654\n",
       "3       4                575\n",
       "4       5                554\n",
       "5       6                556\n",
       "6       7                596\n",
       "7       8                637\n",
       "8       9                531\n",
       "9      10                530\n",
       "10     11                517\n",
       "11     12                565"
      ]
     },
     "execution_count": 16,
     "metadata": {},
     "output_type": "execute_result"
    }
   ],
   "source": [
    "# Creates an aggregate function that counts the instances of each Month and group them together to a new table.\n",
    "counting_months = {\"Month\": \"count\"}\n",
    "num_of_crashes = a_road_deaths.groupby(\"Month\").agg(counting_months)\n",
    "\n",
    "# Rename the Month to Number of Crashes for the second column.\n",
    "num_of_crashes.rename(\n",
    "    columns = {\"Month\": \"Month\", \"Month\": \"Number of Crashes\"},\n",
    "    inplace = True   # Replaces original dataset instead of creating a new one.\n",
    "    )\n",
    "# Flattens the table into one level.\n",
    "num_of_crashes.reset_index()"
   ]
  },
  {
   "cell_type": "markdown",
   "metadata": {},
   "source": [
    "Above shows the dataframe of the number of crashes each month for 2014 - 2021."
   ]
  },
  {
   "cell_type": "code",
   "execution_count": 44,
   "metadata": {},
   "outputs": [
    {
     "data": {
      "text/html": [
       "<div>\n",
       "<style scoped>\n",
       "    .dataframe tbody tr th:only-of-type {\n",
       "        vertical-align: middle;\n",
       "    }\n",
       "\n",
       "    .dataframe tbody tr th {\n",
       "        vertical-align: top;\n",
       "    }\n",
       "\n",
       "    .dataframe thead th {\n",
       "        text-align: right;\n",
       "    }\n",
       "</style>\n",
       "<table border=\"1\" class=\"dataframe\">\n",
       "  <thead>\n",
       "    <tr style=\"text-align: right;\">\n",
       "      <th></th>\n",
       "      <th>Month</th>\n",
       "      <th>Number of Crashes</th>\n",
       "    </tr>\n",
       "  </thead>\n",
       "  <tbody>\n",
       "    <tr>\n",
       "      <th>0</th>\n",
       "      <td>3</td>\n",
       "      <td>654</td>\n",
       "    </tr>\n",
       "    <tr>\n",
       "      <th>1</th>\n",
       "      <td>8</td>\n",
       "      <td>637</td>\n",
       "    </tr>\n",
       "  </tbody>\n",
       "</table>\n",
       "</div>"
      ],
      "text/plain": [
       "   Month  Number of Crashes\n",
       "0      3                654\n",
       "1      8                637"
      ]
     },
     "execution_count": 44,
     "metadata": {},
     "output_type": "execute_result"
    }
   ],
   "source": [
    "# Gets the top 2 largest amount of crashes in the Number of Crashes column.\n",
    "top2 = num_of_crashes.nlargest(n = 2, columns = \"Number of Crashes\")\n",
    "# Flattens the table into one level.\n",
    "top2.reset_index()"
   ]
  },
  {
   "cell_type": "markdown",
   "metadata": {},
   "source": [
    "The 2 months in which the number of crashes are at their largest is `March` and `August`. They have 654 and 637 number of crashes respectively."
   ]
  },
  {
   "cell_type": "markdown",
   "metadata": {},
   "source": [
    "## Task A5"
   ]
  },
  {
   "cell_type": "markdown",
   "metadata": {},
   "source": [
    "### 1."
   ]
  },
  {
   "cell_type": "markdown",
   "metadata": {},
   "source": [
    "### a."
   ]
  },
  {
   "cell_type": "code",
   "execution_count": 18,
   "metadata": {},
   "outputs": [
    {
     "data": {
      "text/html": [
       "<div>\n",
       "<style scoped>\n",
       "    .dataframe tbody tr th:only-of-type {\n",
       "        vertical-align: middle;\n",
       "    }\n",
       "\n",
       "    .dataframe tbody tr th {\n",
       "        vertical-align: top;\n",
       "    }\n",
       "\n",
       "    .dataframe thead th {\n",
       "        text-align: right;\n",
       "    }\n",
       "</style>\n",
       "<table border=\"1\" class=\"dataframe\">\n",
       "  <thead>\n",
       "    <tr style=\"text-align: right;\">\n",
       "      <th></th>\n",
       "      <th>Crash ID</th>\n",
       "      <th>State</th>\n",
       "      <th>YYYYMM</th>\n",
       "      <th>Year</th>\n",
       "      <th>Month</th>\n",
       "      <th>Day of week</th>\n",
       "      <th>Time</th>\n",
       "      <th>Crash Type</th>\n",
       "      <th>Bus Involvement</th>\n",
       "      <th>Heavy Rigid Truck Involvement</th>\n",
       "      <th>...</th>\n",
       "      <th>Speed</th>\n",
       "      <th>Driving experience</th>\n",
       "      <th>National Remoteness Areas</th>\n",
       "      <th>SA4 Name 2016</th>\n",
       "      <th>National LGA Name 2017</th>\n",
       "      <th>National Road Type</th>\n",
       "      <th>Christmas Period</th>\n",
       "      <th>Easter Period</th>\n",
       "      <th>Age Group</th>\n",
       "      <th>Time of day</th>\n",
       "    </tr>\n",
       "  </thead>\n",
       "  <tbody>\n",
       "    <tr>\n",
       "      <th>0</th>\n",
       "      <td>20213034</td>\n",
       "      <td>Qld</td>\n",
       "      <td>202109</td>\n",
       "      <td>2021</td>\n",
       "      <td>9</td>\n",
       "      <td>Saturday</td>\n",
       "      <td>4:00:00</td>\n",
       "      <td>Multiple</td>\n",
       "      <td>No</td>\n",
       "      <td>No</td>\n",
       "      <td>...</td>\n",
       "      <td>41</td>\n",
       "      <td>3</td>\n",
       "      <td>Major Cities of Australia</td>\n",
       "      <td>Brisbane - South</td>\n",
       "      <td>Brisbane (C)</td>\n",
       "      <td>Busway</td>\n",
       "      <td>No</td>\n",
       "      <td>No</td>\n",
       "      <td>17_to_25</td>\n",
       "      <td>Night</td>\n",
       "    </tr>\n",
       "    <tr>\n",
       "      <th>1</th>\n",
       "      <td>20213026</td>\n",
       "      <td>Qld</td>\n",
       "      <td>202109</td>\n",
       "      <td>2021</td>\n",
       "      <td>9</td>\n",
       "      <td>Wednesday</td>\n",
       "      <td>23:00:00</td>\n",
       "      <td>Multiple</td>\n",
       "      <td>No</td>\n",
       "      <td>No</td>\n",
       "      <td>...</td>\n",
       "      <td>20</td>\n",
       "      <td>3</td>\n",
       "      <td>Major Cities of Australia</td>\n",
       "      <td>Ipswich</td>\n",
       "      <td>Ipswich (C)</td>\n",
       "      <td>National or State Highway</td>\n",
       "      <td>No</td>\n",
       "      <td>No</td>\n",
       "      <td>0_to_16</td>\n",
       "      <td>Night</td>\n",
       "    </tr>\n",
       "    <tr>\n",
       "      <th>2</th>\n",
       "      <td>20213092</td>\n",
       "      <td>Qld</td>\n",
       "      <td>202109</td>\n",
       "      <td>2021</td>\n",
       "      <td>9</td>\n",
       "      <td>Saturday</td>\n",
       "      <td>2:00:00</td>\n",
       "      <td>Single</td>\n",
       "      <td>No</td>\n",
       "      <td>No</td>\n",
       "      <td>...</td>\n",
       "      <td>53</td>\n",
       "      <td>12</td>\n",
       "      <td>Major Cities of Australia</td>\n",
       "      <td>Logan - Beaudesert</td>\n",
       "      <td>Logan (C)</td>\n",
       "      <td>Local Road</td>\n",
       "      <td>No</td>\n",
       "      <td>No</td>\n",
       "      <td>40_to_64</td>\n",
       "      <td>Night</td>\n",
       "    </tr>\n",
       "    <tr>\n",
       "      <th>3</th>\n",
       "      <td>20214053</td>\n",
       "      <td>SA</td>\n",
       "      <td>202109</td>\n",
       "      <td>2021</td>\n",
       "      <td>9</td>\n",
       "      <td>Thursday</td>\n",
       "      <td>21:00:00</td>\n",
       "      <td>Single</td>\n",
       "      <td>No</td>\n",
       "      <td>No</td>\n",
       "      <td>...</td>\n",
       "      <td>140</td>\n",
       "      <td>7</td>\n",
       "      <td>Inner Regional Australia</td>\n",
       "      <td>Adelaide - Central and Hills</td>\n",
       "      <td>Adelaide Hills (DC)</td>\n",
       "      <td>Sub-Arterial Road</td>\n",
       "      <td>No</td>\n",
       "      <td>No</td>\n",
       "      <td>17_to_25</td>\n",
       "      <td>Night</td>\n",
       "    </tr>\n",
       "    <tr>\n",
       "      <th>4</th>\n",
       "      <td>20213178</td>\n",
       "      <td>Qld</td>\n",
       "      <td>202109</td>\n",
       "      <td>2021</td>\n",
       "      <td>9</td>\n",
       "      <td>Sunday</td>\n",
       "      <td>21:00:00</td>\n",
       "      <td>Multiple</td>\n",
       "      <td>No</td>\n",
       "      <td>No</td>\n",
       "      <td>...</td>\n",
       "      <td>71</td>\n",
       "      <td>29</td>\n",
       "      <td>Major Cities of Australia</td>\n",
       "      <td>Gold Coast</td>\n",
       "      <td>Gold Coast (C)</td>\n",
       "      <td>Local Road</td>\n",
       "      <td>No</td>\n",
       "      <td>No</td>\n",
       "      <td>40_to_64</td>\n",
       "      <td>Night</td>\n",
       "    </tr>\n",
       "    <tr>\n",
       "      <th>...</th>\n",
       "      <td>...</td>\n",
       "      <td>...</td>\n",
       "      <td>...</td>\n",
       "      <td>...</td>\n",
       "      <td>...</td>\n",
       "      <td>...</td>\n",
       "      <td>...</td>\n",
       "      <td>...</td>\n",
       "      <td>...</td>\n",
       "      <td>...</td>\n",
       "      <td>...</td>\n",
       "      <td>...</td>\n",
       "      <td>...</td>\n",
       "      <td>...</td>\n",
       "      <td>...</td>\n",
       "      <td>...</td>\n",
       "      <td>...</td>\n",
       "      <td>...</td>\n",
       "      <td>...</td>\n",
       "      <td>...</td>\n",
       "      <td>...</td>\n",
       "    </tr>\n",
       "    <tr>\n",
       "      <th>6833</th>\n",
       "      <td>20144083</td>\n",
       "      <td>SA</td>\n",
       "      <td>201401</td>\n",
       "      <td>2014</td>\n",
       "      <td>1</td>\n",
       "      <td>Friday</td>\n",
       "      <td>11:10:00</td>\n",
       "      <td>Multiple</td>\n",
       "      <td>No</td>\n",
       "      <td>Yes</td>\n",
       "      <td>...</td>\n",
       "      <td>20</td>\n",
       "      <td>14</td>\n",
       "      <td>Outer Regional Australia</td>\n",
       "      <td>South Australia - South East</td>\n",
       "      <td>The Coorong (DC)</td>\n",
       "      <td>National or State Highway</td>\n",
       "      <td>No</td>\n",
       "      <td>No</td>\n",
       "      <td>40_to_64</td>\n",
       "      <td>Day</td>\n",
       "    </tr>\n",
       "    <tr>\n",
       "      <th>6834</th>\n",
       "      <td>20145108</td>\n",
       "      <td>WA</td>\n",
       "      <td>201401</td>\n",
       "      <td>2014</td>\n",
       "      <td>1</td>\n",
       "      <td>Wednesday</td>\n",
       "      <td>11:47:00</td>\n",
       "      <td>Single</td>\n",
       "      <td>No</td>\n",
       "      <td>No</td>\n",
       "      <td>...</td>\n",
       "      <td>142</td>\n",
       "      <td>15</td>\n",
       "      <td>Major Cities of Australia</td>\n",
       "      <td>Perth - South East</td>\n",
       "      <td>Belmont (C)</td>\n",
       "      <td>National or State Highway</td>\n",
       "      <td>Yes</td>\n",
       "      <td>No</td>\n",
       "      <td>40_to_64</td>\n",
       "      <td>Day</td>\n",
       "    </tr>\n",
       "    <tr>\n",
       "      <th>6835</th>\n",
       "      <td>20144022</td>\n",
       "      <td>SA</td>\n",
       "      <td>201401</td>\n",
       "      <td>2014</td>\n",
       "      <td>1</td>\n",
       "      <td>Monday</td>\n",
       "      <td>9:35:00</td>\n",
       "      <td>Single</td>\n",
       "      <td>No</td>\n",
       "      <td>No</td>\n",
       "      <td>...</td>\n",
       "      <td>0</td>\n",
       "      <td>45</td>\n",
       "      <td>Major Cities of Australia</td>\n",
       "      <td>Adelaide - North</td>\n",
       "      <td>Tea Tree Gully (C)</td>\n",
       "      <td>Local Road</td>\n",
       "      <td>No</td>\n",
       "      <td>No</td>\n",
       "      <td>75_or_older</td>\n",
       "      <td>Day</td>\n",
       "    </tr>\n",
       "    <tr>\n",
       "      <th>6836</th>\n",
       "      <td>20145072</td>\n",
       "      <td>WA</td>\n",
       "      <td>201401</td>\n",
       "      <td>2014</td>\n",
       "      <td>1</td>\n",
       "      <td>Tuesday</td>\n",
       "      <td>21:30:00</td>\n",
       "      <td>Single</td>\n",
       "      <td>No</td>\n",
       "      <td>No</td>\n",
       "      <td>...</td>\n",
       "      <td>74</td>\n",
       "      <td>43</td>\n",
       "      <td>Remote Australia</td>\n",
       "      <td>Western Australia - Outback (South)</td>\n",
       "      <td>Esperance (S)</td>\n",
       "      <td>National or State Highway</td>\n",
       "      <td>No</td>\n",
       "      <td>No</td>\n",
       "      <td>75_or_older</td>\n",
       "      <td>Night</td>\n",
       "    </tr>\n",
       "    <tr>\n",
       "      <th>6837</th>\n",
       "      <td>20144007</td>\n",
       "      <td>SA</td>\n",
       "      <td>201401</td>\n",
       "      <td>2014</td>\n",
       "      <td>1</td>\n",
       "      <td>Tuesday</td>\n",
       "      <td>20:00:00</td>\n",
       "      <td>Single</td>\n",
       "      <td>No</td>\n",
       "      <td>No</td>\n",
       "      <td>...</td>\n",
       "      <td>0</td>\n",
       "      <td>41</td>\n",
       "      <td>Major Cities of Australia</td>\n",
       "      <td>Adelaide - North</td>\n",
       "      <td>Playford (C)</td>\n",
       "      <td>Local Road</td>\n",
       "      <td>No</td>\n",
       "      <td>No</td>\n",
       "      <td>75_or_older</td>\n",
       "      <td>Night</td>\n",
       "    </tr>\n",
       "  </tbody>\n",
       "</table>\n",
       "<p>6822 rows × 24 columns</p>\n",
       "</div>"
      ],
      "text/plain": [
       "      Crash ID State  YYYYMM  Year  Month Day of week      Time Crash Type  \\\n",
       "0     20213034   Qld  202109  2021      9    Saturday   4:00:00   Multiple   \n",
       "1     20213026   Qld  202109  2021      9   Wednesday  23:00:00   Multiple   \n",
       "2     20213092   Qld  202109  2021      9    Saturday   2:00:00     Single   \n",
       "3     20214053    SA  202109  2021      9    Thursday  21:00:00     Single   \n",
       "4     20213178   Qld  202109  2021      9      Sunday  21:00:00   Multiple   \n",
       "...        ...   ...     ...   ...    ...         ...       ...        ...   \n",
       "6833  20144083    SA  201401  2014      1      Friday  11:10:00   Multiple   \n",
       "6834  20145108    WA  201401  2014      1   Wednesday  11:47:00     Single   \n",
       "6835  20144022    SA  201401  2014      1      Monday   9:35:00     Single   \n",
       "6836  20145072    WA  201401  2014      1     Tuesday  21:30:00     Single   \n",
       "6837  20144007    SA  201401  2014      1     Tuesday  20:00:00     Single   \n",
       "\n",
       "     Bus Involvement Heavy Rigid Truck Involvement  ... Speed  \\\n",
       "0                 No                            No  ...    41   \n",
       "1                 No                            No  ...    20   \n",
       "2                 No                            No  ...    53   \n",
       "3                 No                            No  ...   140   \n",
       "4                 No                            No  ...    71   \n",
       "...              ...                           ...  ...   ...   \n",
       "6833              No                           Yes  ...    20   \n",
       "6834              No                            No  ...   142   \n",
       "6835              No                            No  ...     0   \n",
       "6836              No                            No  ...    74   \n",
       "6837              No                            No  ...     0   \n",
       "\n",
       "     Driving experience  National Remoteness Areas  \\\n",
       "0                     3  Major Cities of Australia   \n",
       "1                     3  Major Cities of Australia   \n",
       "2                    12  Major Cities of Australia   \n",
       "3                     7   Inner Regional Australia   \n",
       "4                    29  Major Cities of Australia   \n",
       "...                 ...                        ...   \n",
       "6833                 14   Outer Regional Australia   \n",
       "6834                 15  Major Cities of Australia   \n",
       "6835                 45  Major Cities of Australia   \n",
       "6836                 43           Remote Australia   \n",
       "6837                 41  Major Cities of Australia   \n",
       "\n",
       "                            SA4 Name 2016  National LGA Name 2017  \\\n",
       "0                        Brisbane - South            Brisbane (C)   \n",
       "1                                 Ipswich             Ipswich (C)   \n",
       "2                      Logan - Beaudesert               Logan (C)   \n",
       "3            Adelaide - Central and Hills     Adelaide Hills (DC)   \n",
       "4                              Gold Coast          Gold Coast (C)   \n",
       "...                                   ...                     ...   \n",
       "6833         South Australia - South East        The Coorong (DC)   \n",
       "6834                   Perth - South East             Belmont (C)   \n",
       "6835                     Adelaide - North      Tea Tree Gully (C)   \n",
       "6836  Western Australia - Outback (South)           Esperance (S)   \n",
       "6837                     Adelaide - North            Playford (C)   \n",
       "\n",
       "             National Road Type Christmas Period Easter Period    Age Group  \\\n",
       "0                        Busway               No            No     17_to_25   \n",
       "1     National or State Highway               No            No      0_to_16   \n",
       "2                    Local Road               No            No     40_to_64   \n",
       "3             Sub-Arterial Road               No            No     17_to_25   \n",
       "4                    Local Road               No            No     40_to_64   \n",
       "...                         ...              ...           ...          ...   \n",
       "6833  National or State Highway               No            No     40_to_64   \n",
       "6834  National or State Highway              Yes            No     40_to_64   \n",
       "6835                 Local Road               No            No  75_or_older   \n",
       "6836  National or State Highway               No            No  75_or_older   \n",
       "6837                 Local Road               No            No  75_or_older   \n",
       "\n",
       "     Time of day  \n",
       "0          Night  \n",
       "1          Night  \n",
       "2          Night  \n",
       "3          Night  \n",
       "4          Night  \n",
       "...          ...  \n",
       "6833         Day  \n",
       "6834         Day  \n",
       "6835         Day  \n",
       "6836       Night  \n",
       "6837       Night  \n",
       "\n",
       "[6822 rows x 24 columns]"
      ]
     },
     "execution_count": 18,
     "metadata": {},
     "output_type": "execute_result"
    }
   ],
   "source": [
    "# Year and Month extracted in Task A3.2\n",
    "# Display the dataframe with the Month and Year column added.\n",
    "a_road_deaths"
   ]
  },
  {
   "cell_type": "markdown",
   "metadata": {},
   "source": [
    "The Year and Month are extracted from the YYYYMM column and added into the original `a_road_deaths` dataframe."
   ]
  },
  {
   "cell_type": "markdown",
   "metadata": {},
   "source": [
    "### b."
   ]
  },
  {
   "cell_type": "code",
   "execution_count": 19,
   "metadata": {},
   "outputs": [
    {
     "data": {
      "text/html": [
       "<div>\n",
       "<style scoped>\n",
       "    .dataframe tbody tr th:only-of-type {\n",
       "        vertical-align: middle;\n",
       "    }\n",
       "\n",
       "    .dataframe tbody tr th {\n",
       "        vertical-align: top;\n",
       "    }\n",
       "\n",
       "    .dataframe thead th {\n",
       "        text-align: right;\n",
       "    }\n",
       "</style>\n",
       "<table border=\"1\" class=\"dataframe\">\n",
       "  <thead>\n",
       "    <tr style=\"text-align: right;\">\n",
       "      <th></th>\n",
       "      <th>Year</th>\n",
       "      <th>Month</th>\n",
       "      <th>Number of Crashes for Car Drivers</th>\n",
       "    </tr>\n",
       "  </thead>\n",
       "  <tbody>\n",
       "    <tr>\n",
       "      <th>0</th>\n",
       "      <td>2014</td>\n",
       "      <td>1</td>\n",
       "      <td>7</td>\n",
       "    </tr>\n",
       "    <tr>\n",
       "      <th>1</th>\n",
       "      <td>2014</td>\n",
       "      <td>2</td>\n",
       "      <td>10</td>\n",
       "    </tr>\n",
       "    <tr>\n",
       "      <th>2</th>\n",
       "      <td>2014</td>\n",
       "      <td>3</td>\n",
       "      <td>12</td>\n",
       "    </tr>\n",
       "    <tr>\n",
       "      <th>3</th>\n",
       "      <td>2014</td>\n",
       "      <td>4</td>\n",
       "      <td>9</td>\n",
       "    </tr>\n",
       "    <tr>\n",
       "      <th>4</th>\n",
       "      <td>2014</td>\n",
       "      <td>5</td>\n",
       "      <td>6</td>\n",
       "    </tr>\n",
       "    <tr>\n",
       "      <th>...</th>\n",
       "      <td>...</td>\n",
       "      <td>...</td>\n",
       "      <td>...</td>\n",
       "    </tr>\n",
       "    <tr>\n",
       "      <th>88</th>\n",
       "      <td>2021</td>\n",
       "      <td>5</td>\n",
       "      <td>33</td>\n",
       "    </tr>\n",
       "    <tr>\n",
       "      <th>89</th>\n",
       "      <td>2021</td>\n",
       "      <td>6</td>\n",
       "      <td>41</td>\n",
       "    </tr>\n",
       "    <tr>\n",
       "      <th>90</th>\n",
       "      <td>2021</td>\n",
       "      <td>7</td>\n",
       "      <td>43</td>\n",
       "    </tr>\n",
       "    <tr>\n",
       "      <th>91</th>\n",
       "      <td>2021</td>\n",
       "      <td>8</td>\n",
       "      <td>39</td>\n",
       "    </tr>\n",
       "    <tr>\n",
       "      <th>92</th>\n",
       "      <td>2021</td>\n",
       "      <td>9</td>\n",
       "      <td>21</td>\n",
       "    </tr>\n",
       "  </tbody>\n",
       "</table>\n",
       "<p>93 rows × 3 columns</p>\n",
       "</div>"
      ],
      "text/plain": [
       "    Year  Month  Number of Crashes for Car Drivers\n",
       "0   2014      1                                  7\n",
       "1   2014      2                                 10\n",
       "2   2014      3                                 12\n",
       "3   2014      4                                  9\n",
       "4   2014      5                                  6\n",
       "..   ...    ...                                ...\n",
       "88  2021      5                                 33\n",
       "89  2021      6                                 41\n",
       "90  2021      7                                 43\n",
       "91  2021      8                                 39\n",
       "92  2021      9                                 21\n",
       "\n",
       "[93 rows x 3 columns]"
      ]
     },
     "execution_count": 19,
     "metadata": {},
     "output_type": "execute_result"
    }
   ],
   "source": [
    "# Get all rows that are car drivers for the Road User column. Filter our all non-car drivers.\n",
    "car_driver = a_road_deaths.loc[a_road_deaths[\"Road User\"] == \"Car driver\"].copy()\n",
    "\n",
    "# Creates an aggregate function that counts the instances of each car driver and group them together to a new table.\n",
    "counting_crash = {\"Road User\": \"count\"}\n",
    "num_car_crash = car_driver.groupby([\"Year\", \"Month\"]).agg(counting_crash)\n",
    "\n",
    "# Rename the Road User to Number of Crashes for Car Drivers.\n",
    "num_car_crash.rename(\n",
    "    columns = {\"Road User\": \"Number of Crashes for Car Drivers\"},\n",
    "    inplace = True   # Replaces original dataset instead of creating a new one.\n",
    "    )\n",
    "# Flattens the table into one level.\n",
    "num_car_crash.reset_index()"
   ]
  },
  {
   "cell_type": "markdown",
   "metadata": {},
   "source": [
    "Above displays the total number of car driver crashes for a specified year and month."
   ]
  },
  {
   "cell_type": "markdown",
   "metadata": {},
   "source": [
    "### c."
   ]
  },
  {
   "cell_type": "code",
   "execution_count": 20,
   "metadata": {},
   "outputs": [
    {
     "data": {
      "text/html": [
       "<div>\n",
       "<style scoped>\n",
       "    .dataframe tbody tr th:only-of-type {\n",
       "        vertical-align: middle;\n",
       "    }\n",
       "\n",
       "    .dataframe tbody tr th {\n",
       "        vertical-align: top;\n",
       "    }\n",
       "\n",
       "    .dataframe thead th {\n",
       "        text-align: right;\n",
       "    }\n",
       "</style>\n",
       "<table border=\"1\" class=\"dataframe\">\n",
       "  <thead>\n",
       "    <tr style=\"text-align: right;\">\n",
       "      <th></th>\n",
       "      <th>Month</th>\n",
       "      <th>Mean Number of Car Driver Crashes</th>\n",
       "    </tr>\n",
       "  </thead>\n",
       "  <tbody>\n",
       "    <tr>\n",
       "      <th>0</th>\n",
       "      <td>1</td>\n",
       "      <td>34.375000</td>\n",
       "    </tr>\n",
       "    <tr>\n",
       "      <th>1</th>\n",
       "      <td>2</td>\n",
       "      <td>28.750000</td>\n",
       "    </tr>\n",
       "    <tr>\n",
       "      <th>2</th>\n",
       "      <td>3</td>\n",
       "      <td>39.250000</td>\n",
       "    </tr>\n",
       "    <tr>\n",
       "      <th>3</th>\n",
       "      <td>4</td>\n",
       "      <td>33.375000</td>\n",
       "    </tr>\n",
       "    <tr>\n",
       "      <th>4</th>\n",
       "      <td>5</td>\n",
       "      <td>32.750000</td>\n",
       "    </tr>\n",
       "    <tr>\n",
       "      <th>5</th>\n",
       "      <td>6</td>\n",
       "      <td>33.500000</td>\n",
       "    </tr>\n",
       "    <tr>\n",
       "      <th>6</th>\n",
       "      <td>7</td>\n",
       "      <td>34.000000</td>\n",
       "    </tr>\n",
       "    <tr>\n",
       "      <th>7</th>\n",
       "      <td>8</td>\n",
       "      <td>38.750000</td>\n",
       "    </tr>\n",
       "    <tr>\n",
       "      <th>8</th>\n",
       "      <td>9</td>\n",
       "      <td>34.250000</td>\n",
       "    </tr>\n",
       "    <tr>\n",
       "      <th>9</th>\n",
       "      <td>10</td>\n",
       "      <td>35.142857</td>\n",
       "    </tr>\n",
       "    <tr>\n",
       "      <th>10</th>\n",
       "      <td>11</td>\n",
       "      <td>35.000000</td>\n",
       "    </tr>\n",
       "    <tr>\n",
       "      <th>11</th>\n",
       "      <td>12</td>\n",
       "      <td>38.714286</td>\n",
       "    </tr>\n",
       "  </tbody>\n",
       "</table>\n",
       "</div>"
      ],
      "text/plain": [
       "    Month  Mean Number of Car Driver Crashes\n",
       "0       1                          34.375000\n",
       "1       2                          28.750000\n",
       "2       3                          39.250000\n",
       "3       4                          33.375000\n",
       "4       5                          32.750000\n",
       "5       6                          33.500000\n",
       "6       7                          34.000000\n",
       "7       8                          38.750000\n",
       "8       9                          34.250000\n",
       "9      10                          35.142857\n",
       "10     11                          35.000000\n",
       "11     12                          38.714286"
      ]
     },
     "execution_count": 20,
     "metadata": {},
     "output_type": "execute_result"
    }
   ],
   "source": [
    "# Creates an aggregate function that averages the number of car driver crashes per month.\n",
    "average_crash = {\"Number of Crashes for Car Drivers\": \"mean\"}\n",
    "mean_crashes = num_car_crash.groupby([\"Month\"]).agg(average_crash)\n",
    "\n",
    "# Rename the Number of Crashes for Car Drivers to Mean Number of Car Driver Crashes.\n",
    "mean_crashes.rename(\n",
    "    columns = {\"Number of Crashes for Car Drivers\": \"Mean Number of Car Driver Crashes\"},\n",
    "    inplace = True   # Replaces original dataset instead of creating a new one.\n",
    "    )\n",
    "# Flattens the table into one level.\n",
    "mean_crashes.reset_index()"
   ]
  },
  {
   "cell_type": "markdown",
   "metadata": {},
   "source": [
    "The output aboves show the Mean Number of Car Driver Crashes for each Month over a number of years."
   ]
  },
  {
   "cell_type": "markdown",
   "metadata": {},
   "source": [
    "### 2."
   ]
  },
  {
   "cell_type": "code",
   "execution_count": 45,
   "metadata": {},
   "outputs": [
    {
     "data": {
      "image/png": "[encoded data removed]",
      "text/plain": [
       "<Figure size 1200x450 with 1 Axes>"
      ]
     },
     "metadata": {},
     "output_type": "display_data"
    }
   ],
   "source": [
    "# Flattens the table into one level.\n",
    "mean_crashes = mean_crashes.reset_index()\n",
    "\n",
    "# Plot a line graph with the x-axis being Month and the y-axis being Mean Number of Car Driver Crashes.\n",
    "plt.figure(figsize=[12, 4.5])   # Expand the canvas size.\n",
    "plt.plot(mean_crashes[\"Month\"], mean_crashes[\"Mean Number of Car Driver Crashes\"])\n",
    "\n",
    "# Sets the title of the graph.\n",
    "plt.title(\"Average Number of Car Driver Crashes per Month\")\n",
    "# Name the x and y labels.\n",
    "plt.xlabel(\"Month\")\n",
    "plt.ylabel(\"Mean Number of Car Driver Crashes\")\n",
    "plt.show()"
   ]
  },
  {
   "cell_type": "markdown",
   "metadata": {},
   "source": [
    "Above shows a line graph with it's x-axis being the Month and the y-axis being the Mean Number of Car Driver Crashes."
   ]
  },
  {
   "cell_type": "markdown",
   "metadata": {},
   "source": [
    "### 3."
   ]
  },
  {
   "cell_type": "markdown",
   "metadata": {},
   "source": [
    "There's a massive drop in car accidents from January to February, from 34 Car driver crashes to 28. Then, there's a significant spike in car accidents right after that from February to March, peaking at 39 crashes, before plummeting in April at 33 crashes. From July to August, there is a another increase in car crashes, also reaching 38 before dropping. In November to December, there is another spike in car crashes. \n",
    "<br>\n",
    "<br>\n",
    "The massive drop in car accidents in January could be alluded to the Australian Summer Holidays. Parents do not need to fetch their children to school and back, leading to less cars on the road hence less car accidents. Furthermore, many Australians will go on holiday overseas during the summer, also resulting in less cars on the road. This all contributes to a lower rate of car crashes in January.\n",
    "<br>\n",
    "<br>\n",
    "Similarly, the humongous increase in car accidents in February to March could be because of the end of the Australian Summer Holidays. As the holidays end, parents have to fetch their children to school and back, teachers have to commute to school etc. As a result, the average number of car crashes increases during that time period.\n",
    "<br>\n",
    "<br>\n",
    "The sudden increase in car crashes in December can be explained due to Christmas. More people will be on the road driving to visit their family for Christmas, resulting in a higher chance of car accidents. Hence, there is a sudden spike of car accidents in December."
   ]
  },
  {
   "cell_type": "markdown",
   "metadata": {},
   "source": [
    "## Task A6"
   ]
  },
  {
   "cell_type": "markdown",
   "metadata": {},
   "source": [
    "### 1."
   ]
  },
  {
   "cell_type": "code",
   "execution_count": 46,
   "metadata": {},
   "outputs": [
    {
     "data": {
      "image/png": "[encoded data removed]",
      "text/plain": [
       "<Figure size 1000x1600 with 1 Axes>"
      ]
     },
     "metadata": {},
     "output_type": "display_data"
    }
   ],
   "source": [
    "# Creates an aggregate function that averages the speed of car drivers for each national road type.\n",
    "average_speed = {\"Speed\": \"mean\"}\n",
    "mean_speed = car_driver.groupby([\"National Road Type\"]).agg(average_speed)\n",
    "\n",
    "# Rename the Number of Crashes for Car Drivers to Mean Number of Car Driver Crashes.\n",
    "mean_speed.rename(\n",
    "    columns = {\"Speed\": \"Mean Speed of Car Driver Crashes\"},\n",
    "    inplace = True   # Replaces original dataset instead of creating a new one.\n",
    "    )\n",
    "\n",
    "# Flattens the table into one level.\n",
    "mean_speed = mean_speed.reset_index()\n",
    "\n",
    "# Plot the line graph with x-axis being National Road Type and y-axis being Mean SPeed of Car Driver crashes.\n",
    "plt.figure(figsize=[10, 16])    # Expand the canvas size.\n",
    "plt.bar(mean_speed[\"National Road Type\"], mean_speed[\"Mean Speed of Car Driver Crashes\"])\n",
    "# Sets the title of the graph.\n",
    "plt.title(\"Average Speed of Car Driver Crashes per Nation Road Type\")\n",
    "# Name the x and y labels.\n",
    "plt.xlabel(\"National Road Type\")\n",
    "plt.ylabel(\"Mean Speed of Car Driver Crashes\")\n",
    "# Rotate the x axis to be 90 degrees\n",
    "plt.xticks(rotation=90)\n",
    "plt.show()"
   ]
  },
  {
   "cell_type": "markdown",
   "metadata": {},
   "source": [
    "Above shows a line graph of the Average Speed of Car Driver Crashes per Nation Road Type where the Nation Road Type is the x-axis and the Mean Speed of Car Driver Crashes is the y-axis."
   ]
  },
  {
   "cell_type": "markdown",
   "metadata": {},
   "source": [
    "### 2."
   ]
  },
  {
   "cell_type": "code",
   "execution_count": 23,
   "metadata": {},
   "outputs": [
    {
     "data": {
      "text/html": [
       "<div>\n",
       "<style scoped>\n",
       "    .dataframe tbody tr th:only-of-type {\n",
       "        vertical-align: middle;\n",
       "    }\n",
       "\n",
       "    .dataframe tbody tr th {\n",
       "        vertical-align: top;\n",
       "    }\n",
       "\n",
       "    .dataframe thead th {\n",
       "        text-align: right;\n",
       "    }\n",
       "</style>\n",
       "<table border=\"1\" class=\"dataframe\">\n",
       "  <thead>\n",
       "    <tr style=\"text-align: right;\">\n",
       "      <th></th>\n",
       "      <th>Age</th>\n",
       "      <th>Driving experience</th>\n",
       "    </tr>\n",
       "  </thead>\n",
       "  <tbody>\n",
       "    <tr>\n",
       "      <th>19</th>\n",
       "      <td>-999</td>\n",
       "      <td>40</td>\n",
       "    </tr>\n",
       "    <tr>\n",
       "      <th>49</th>\n",
       "      <td>-999</td>\n",
       "      <td>40</td>\n",
       "    </tr>\n",
       "    <tr>\n",
       "      <th>4638</th>\n",
       "      <td>-999</td>\n",
       "      <td>40</td>\n",
       "    </tr>\n",
       "    <tr>\n",
       "      <th>6312</th>\n",
       "      <td>-999</td>\n",
       "      <td>40</td>\n",
       "    </tr>\n",
       "  </tbody>\n",
       "</table>\n",
       "</div>"
      ],
      "text/plain": [
       "      Age  Driving experience\n",
       "19   -999                  40\n",
       "49   -999                  40\n",
       "4638 -999                  40\n",
       "6312 -999                  40"
      ]
     },
     "execution_count": 23,
     "metadata": {},
     "output_type": "execute_result"
    }
   ],
   "source": [
    "# Get all the counter-intuitive values in the age.\n",
    "age_error_values = a_road_deaths.loc[a_road_deaths[\"Age\"] < 0].copy()\n",
    "\n",
    "# Display them\n",
    "age_error_values[[\"Age\", \"Driving experience\"]]"
   ]
  },
  {
   "cell_type": "markdown",
   "metadata": {},
   "source": [
    "As shown above, there are some age measurements which are in negative. As age can only be in positive integers, this is a measurement error and shall be replace with 0."
   ]
  },
  {
   "cell_type": "code",
   "execution_count": 24,
   "metadata": {},
   "outputs": [
    {
     "data": {
      "text/html": [
       "<div>\n",
       "<style scoped>\n",
       "    .dataframe tbody tr th:only-of-type {\n",
       "        vertical-align: middle;\n",
       "    }\n",
       "\n",
       "    .dataframe tbody tr th {\n",
       "        vertical-align: top;\n",
       "    }\n",
       "\n",
       "    .dataframe thead th {\n",
       "        text-align: right;\n",
       "    }\n",
       "</style>\n",
       "<table border=\"1\" class=\"dataframe\">\n",
       "  <thead>\n",
       "    <tr style=\"text-align: right;\">\n",
       "      <th></th>\n",
       "      <th>Age</th>\n",
       "    </tr>\n",
       "  </thead>\n",
       "  <tbody>\n",
       "    <tr>\n",
       "      <th>19</th>\n",
       "      <td>0</td>\n",
       "    </tr>\n",
       "    <tr>\n",
       "      <th>49</th>\n",
       "      <td>0</td>\n",
       "    </tr>\n",
       "    <tr>\n",
       "      <th>4638</th>\n",
       "      <td>0</td>\n",
       "    </tr>\n",
       "    <tr>\n",
       "      <th>6312</th>\n",
       "      <td>0</td>\n",
       "    </tr>\n",
       "  </tbody>\n",
       "</table>\n",
       "</div>"
      ],
      "text/plain": [
       "      Age\n",
       "19      0\n",
       "49      0\n",
       "4638    0\n",
       "6312    0"
      ]
     },
     "execution_count": 24,
     "metadata": {},
     "output_type": "execute_result"
    }
   ],
   "source": [
    "index_error = []    # Creates an empty list which will hold all the indexes of rows with counter-intuitive value in the Age column.\n",
    "\n",
    "# For loop to loop through each counter-intuitive row and changes Age value to 0.\n",
    "for error_index in age_error_values.index:\n",
    "    a_road_deaths.loc[error_index, \"Age\"] = 0   # Changes the counter-intuitive value to 0.\n",
    "    index_error.append(error_index)             # Append the index of the counter-intuitive row into the list.\n",
    "\n",
    "# Print out the counter-intuitive rows with the Ages now replaced with 0\n",
    "a_road_deaths.filter(items=index_error, axis=0)[[\"Age\"]]"
   ]
  },
  {
   "cell_type": "markdown",
   "metadata": {},
   "source": [
    "The counter-intuitive values are now all replaced with 0 in the original dataframe."
   ]
  },
  {
   "cell_type": "markdown",
   "metadata": {},
   "source": [
    "## Task A7"
   ]
  },
  {
   "cell_type": "markdown",
   "metadata": {},
   "source": [
    "### 1."
   ]
  },
  {
   "cell_type": "code",
   "execution_count": 25,
   "metadata": {},
   "outputs": [
    {
     "data": {
      "text/html": [
       "<div>\n",
       "<style scoped>\n",
       "    .dataframe tbody tr th:only-of-type {\n",
       "        vertical-align: middle;\n",
       "    }\n",
       "\n",
       "    .dataframe tbody tr th {\n",
       "        vertical-align: top;\n",
       "    }\n",
       "\n",
       "    .dataframe thead th {\n",
       "        text-align: right;\n",
       "    }\n",
       "</style>\n",
       "<table border=\"1\" class=\"dataframe\">\n",
       "  <thead>\n",
       "    <tr style=\"text-align: right;\">\n",
       "      <th></th>\n",
       "      <th>Age</th>\n",
       "      <th>Speed</th>\n",
       "      <th>Driving experience</th>\n",
       "    </tr>\n",
       "  </thead>\n",
       "  <tbody>\n",
       "    <tr>\n",
       "      <th>Age</th>\n",
       "      <td>1.000000</td>\n",
       "      <td>0.014749</td>\n",
       "      <td>0.943498</td>\n",
       "    </tr>\n",
       "    <tr>\n",
       "      <th>Speed</th>\n",
       "      <td>0.014749</td>\n",
       "      <td>1.000000</td>\n",
       "      <td>0.012633</td>\n",
       "    </tr>\n",
       "    <tr>\n",
       "      <th>Driving experience</th>\n",
       "      <td>0.943498</td>\n",
       "      <td>0.012633</td>\n",
       "      <td>1.000000</td>\n",
       "    </tr>\n",
       "  </tbody>\n",
       "</table>\n",
       "</div>"
      ],
      "text/plain": [
       "                         Age     Speed  Driving experience\n",
       "Age                 1.000000  0.014749            0.943498\n",
       "Speed               0.014749  1.000000            0.012633\n",
       "Driving experience  0.943498  0.012633            1.000000"
      ]
     },
     "execution_count": 25,
     "metadata": {},
     "output_type": "execute_result"
    }
   ],
   "source": [
    "# Get all rows that are vehicle drivers for the Road User column. Filter our all non-vehicle drivers.\n",
    "car_driver = a_road_deaths.loc[a_road_deaths[\"Road User\"] == \"Car driver\"].copy()\n",
    "motorcycle_rider = a_road_deaths.loc[a_road_deaths[\"Road User\"] == \"Motorcycle rider\"].copy()\n",
    "other_vehicle = a_road_deaths.loc[a_road_deaths[\"Road User\"] == \"Other vehicle driver\"].copy()\n",
    "pedal_cyclist = a_road_deaths.loc[a_road_deaths[\"Road User\"] == \"Pedal cyclist\"].copy()\n",
    "total_vehicle = a_road_deaths.loc[(a_road_deaths[\"Road User\"] == \"Car driver\") | (a_road_deaths[\"Road User\"] == \"Motorcycle rider\") | (a_road_deaths[\"Road User\"] == \"Other vehicle driver\") | (a_road_deaths[\"Road User\"] == \"Pedal cyclist\")].copy()\n",
    "\n",
    "# Gets only the Age, Speed and Driving experience columns for all vehicle drivers.\n",
    "comparison_car = car_driver[[\"Age\", \"Speed\", \"Driving experience\"]]\n",
    "comparison_motorcycle = motorcycle_rider[[\"Age\", \"Speed\", \"Driving experience\"]]\n",
    "comparison_other = other_vehicle[[\"Age\", \"Speed\", \"Driving experience\"]]\n",
    "comparison_cyclist = pedal_cyclist[[\"Age\", \"Speed\", \"Driving experience\"]]\n",
    "comparison_total = total_vehicle[[\"Age\", \"Speed\", \"Driving experience\"]]\n",
    "\n",
    "# Display the corraltion between each data for Car drivers. \n",
    "comparison_car.corr()"
   ]
  },
  {
   "cell_type": "code",
   "execution_count": 26,
   "metadata": {},
   "outputs": [
    {
     "data": {
      "text/html": [
       "<div>\n",
       "<style scoped>\n",
       "    .dataframe tbody tr th:only-of-type {\n",
       "        vertical-align: middle;\n",
       "    }\n",
       "\n",
       "    .dataframe tbody tr th {\n",
       "        vertical-align: top;\n",
       "    }\n",
       "\n",
       "    .dataframe thead th {\n",
       "        text-align: right;\n",
       "    }\n",
       "</style>\n",
       "<table border=\"1\" class=\"dataframe\">\n",
       "  <thead>\n",
       "    <tr style=\"text-align: right;\">\n",
       "      <th></th>\n",
       "      <th>Age</th>\n",
       "      <th>Speed</th>\n",
       "      <th>Driving experience</th>\n",
       "    </tr>\n",
       "  </thead>\n",
       "  <tbody>\n",
       "    <tr>\n",
       "      <th>Age</th>\n",
       "      <td>1.000000</td>\n",
       "      <td>0.001875</td>\n",
       "      <td>0.913454</td>\n",
       "    </tr>\n",
       "    <tr>\n",
       "      <th>Speed</th>\n",
       "      <td>0.001875</td>\n",
       "      <td>1.000000</td>\n",
       "      <td>-0.002233</td>\n",
       "    </tr>\n",
       "    <tr>\n",
       "      <th>Driving experience</th>\n",
       "      <td>0.913454</td>\n",
       "      <td>-0.002233</td>\n",
       "      <td>1.000000</td>\n",
       "    </tr>\n",
       "  </tbody>\n",
       "</table>\n",
       "</div>"
      ],
      "text/plain": [
       "                         Age     Speed  Driving experience\n",
       "Age                 1.000000  0.001875            0.913454\n",
       "Speed               0.001875  1.000000           -0.002233\n",
       "Driving experience  0.913454 -0.002233            1.000000"
      ]
     },
     "execution_count": 26,
     "metadata": {},
     "output_type": "execute_result"
    }
   ],
   "source": [
    "# Display the correlation between each data for Motorcycle riders.\n",
    "comparison_motorcycle.corr()"
   ]
  },
  {
   "cell_type": "code",
   "execution_count": 27,
   "metadata": {},
   "outputs": [
    {
     "data": {
      "text/html": [
       "<div>\n",
       "<style scoped>\n",
       "    .dataframe tbody tr th:only-of-type {\n",
       "        vertical-align: middle;\n",
       "    }\n",
       "\n",
       "    .dataframe tbody tr th {\n",
       "        vertical-align: top;\n",
       "    }\n",
       "\n",
       "    .dataframe thead th {\n",
       "        text-align: right;\n",
       "    }\n",
       "</style>\n",
       "<table border=\"1\" class=\"dataframe\">\n",
       "  <thead>\n",
       "    <tr style=\"text-align: right;\">\n",
       "      <th></th>\n",
       "      <th>Age</th>\n",
       "      <th>Speed</th>\n",
       "      <th>Driving experience</th>\n",
       "    </tr>\n",
       "  </thead>\n",
       "  <tbody>\n",
       "    <tr>\n",
       "      <th>Age</th>\n",
       "      <td>1.000000</td>\n",
       "      <td>-0.122975</td>\n",
       "      <td>0.933673</td>\n",
       "    </tr>\n",
       "    <tr>\n",
       "      <th>Speed</th>\n",
       "      <td>-0.122975</td>\n",
       "      <td>1.000000</td>\n",
       "      <td>-0.041656</td>\n",
       "    </tr>\n",
       "    <tr>\n",
       "      <th>Driving experience</th>\n",
       "      <td>0.933673</td>\n",
       "      <td>-0.041656</td>\n",
       "      <td>1.000000</td>\n",
       "    </tr>\n",
       "  </tbody>\n",
       "</table>\n",
       "</div>"
      ],
      "text/plain": [
       "                         Age     Speed  Driving experience\n",
       "Age                 1.000000 -0.122975            0.933673\n",
       "Speed              -0.122975  1.000000           -0.041656\n",
       "Driving experience  0.933673 -0.041656            1.000000"
      ]
     },
     "execution_count": 27,
     "metadata": {},
     "output_type": "execute_result"
    }
   ],
   "source": [
    "# Display the correlation between each data for Other vehicle drivers. \n",
    "comparison_other.corr()"
   ]
  },
  {
   "cell_type": "code",
   "execution_count": 28,
   "metadata": {},
   "outputs": [
    {
     "data": {
      "text/html": [
       "<div>\n",
       "<style scoped>\n",
       "    .dataframe tbody tr th:only-of-type {\n",
       "        vertical-align: middle;\n",
       "    }\n",
       "\n",
       "    .dataframe tbody tr th {\n",
       "        vertical-align: top;\n",
       "    }\n",
       "\n",
       "    .dataframe thead th {\n",
       "        text-align: right;\n",
       "    }\n",
       "</style>\n",
       "<table border=\"1\" class=\"dataframe\">\n",
       "  <thead>\n",
       "    <tr style=\"text-align: right;\">\n",
       "      <th></th>\n",
       "      <th>Age</th>\n",
       "      <th>Speed</th>\n",
       "      <th>Driving experience</th>\n",
       "    </tr>\n",
       "  </thead>\n",
       "  <tbody>\n",
       "    <tr>\n",
       "      <th>Age</th>\n",
       "      <td>1.000000</td>\n",
       "      <td>-0.066498</td>\n",
       "      <td>0.854333</td>\n",
       "    </tr>\n",
       "    <tr>\n",
       "      <th>Speed</th>\n",
       "      <td>-0.066498</td>\n",
       "      <td>1.000000</td>\n",
       "      <td>-0.113703</td>\n",
       "    </tr>\n",
       "    <tr>\n",
       "      <th>Driving experience</th>\n",
       "      <td>0.854333</td>\n",
       "      <td>-0.113703</td>\n",
       "      <td>1.000000</td>\n",
       "    </tr>\n",
       "  </tbody>\n",
       "</table>\n",
       "</div>"
      ],
      "text/plain": [
       "                         Age     Speed  Driving experience\n",
       "Age                 1.000000 -0.066498            0.854333\n",
       "Speed              -0.066498  1.000000           -0.113703\n",
       "Driving experience  0.854333 -0.113703            1.000000"
      ]
     },
     "execution_count": 28,
     "metadata": {},
     "output_type": "execute_result"
    }
   ],
   "source": [
    "# Display the correlation between each data for Pedal cyclists.\n",
    "comparison_cyclist.corr()"
   ]
  },
  {
   "cell_type": "code",
   "execution_count": 29,
   "metadata": {},
   "outputs": [
    {
     "data": {
      "text/html": [
       "<div>\n",
       "<style scoped>\n",
       "    .dataframe tbody tr th:only-of-type {\n",
       "        vertical-align: middle;\n",
       "    }\n",
       "\n",
       "    .dataframe tbody tr th {\n",
       "        vertical-align: top;\n",
       "    }\n",
       "\n",
       "    .dataframe thead th {\n",
       "        text-align: right;\n",
       "    }\n",
       "</style>\n",
       "<table border=\"1\" class=\"dataframe\">\n",
       "  <thead>\n",
       "    <tr style=\"text-align: right;\">\n",
       "      <th></th>\n",
       "      <th>Age</th>\n",
       "      <th>Speed</th>\n",
       "      <th>Driving experience</th>\n",
       "    </tr>\n",
       "  </thead>\n",
       "  <tbody>\n",
       "    <tr>\n",
       "      <th>Age</th>\n",
       "      <td>1.000000</td>\n",
       "      <td>-0.005108</td>\n",
       "      <td>0.935406</td>\n",
       "    </tr>\n",
       "    <tr>\n",
       "      <th>Speed</th>\n",
       "      <td>-0.005108</td>\n",
       "      <td>1.000000</td>\n",
       "      <td>-0.007659</td>\n",
       "    </tr>\n",
       "    <tr>\n",
       "      <th>Driving experience</th>\n",
       "      <td>0.935406</td>\n",
       "      <td>-0.007659</td>\n",
       "      <td>1.000000</td>\n",
       "    </tr>\n",
       "  </tbody>\n",
       "</table>\n",
       "</div>"
      ],
      "text/plain": [
       "                         Age     Speed  Driving experience\n",
       "Age                 1.000000 -0.005108            0.935406\n",
       "Speed              -0.005108  1.000000           -0.007659\n",
       "Driving experience  0.935406 -0.007659            1.000000"
      ]
     },
     "execution_count": 29,
     "metadata": {},
     "output_type": "execute_result"
    }
   ],
   "source": [
    "# Display the correlation between the total vehicle drivers (Car driver, Motorcycle rider, Other vehicle driver and Pedal Cyclist combined)\n",
    "comparison_total.corr()"
   ]
  },
  {
   "cell_type": "markdown",
   "metadata": {},
   "source": [
    "Age and Driving experience has the highest linear association (0.8 - 0.9) meaning if Age increases, Driving experience increases too. Whereas, Age and Speed has no linear association (0.1 and below). As the value is so close to 0, they have no correlation and are not related to each other at all. Driving experience is also not related to speed as the correlation (0.1 and below). Similarly to the previous comparison, it also does not have any correlation as the value is close to 0.\n",
    "<br>\n",
    "<br>\n",
    "This implies that the older the age of the driver, the more driving experience he has. Whereas the speed of the driver before the crash has no relation to age whatsoever. In addition, the Driving experience of the driver does not affect the speed of the vehicle as speed of the vehicle will vary based on the road speed limit."
   ]
  },
  {
   "cell_type": "markdown",
   "metadata": {},
   "source": [
    "### 2."
   ]
  },
  {
   "cell_type": "code",
   "execution_count": 50,
   "metadata": {},
   "outputs": [
    {
     "data": {
      "image/png": "[encoded data removed]",
      "text/plain": [
       "<Figure size 1200x1000 with 1 Axes>"
      ]
     },
     "metadata": {},
     "output_type": "display_data"
    }
   ],
   "source": [
    "# Creates an aggregate function that counts the instances of each specified vehicle driver and group them together to a new table.\n",
    "count_vehicle_crashes = {\"Road User\": \"count\"}\n",
    "\n",
    "# List containing all the vehicle label for the graph and the data frames for each vehicle.\n",
    "vehicle_labels = [\"Car Driver\", \"Motorcycle Rider\", \"Other Vehicle Driver\", \"Pedal Cyclist\", \"Total Vehicle Driver\"]\n",
    "vehicle_drivers = [car_driver, motorcycle_rider, other_vehicle, pedal_cyclist, total_vehicle]\n",
    "\n",
    "plt.figure(figsize=[12, 10])   # Expand the canvas size.\n",
    "x_axis = np.linspace(0, 66)    # How long the linear fit will be.\n",
    "\n",
    "# For loop to plot a best fit line for eahc vehicle driver.\n",
    "for i in range(len(vehicle_drivers)):\n",
    "    # Find the number of crashes against driving experience for the scatter and also calculate the best fit line.\n",
    "    vehicle_crashes = vehicle_drivers[i].groupby([\"Driving experience\"]).agg(count_vehicle_crashes).reset_index()\n",
    "    linear_vehicle = np.poly1d(np.polyfit(vehicle_crashes[\"Driving experience\"], vehicle_crashes[\"Road User\"], 1))\n",
    "    \n",
    "    # Plot the scatter points and best fit line.\n",
    "    plt.scatter(vehicle_crashes[\"Driving experience\"], vehicle_crashes[\"Road User\"])\n",
    "    plt.plot(x_axis, linear_vehicle(x_axis), label=vehicle_labels[i], linewidth=3)\n",
    "\n",
    "# Set x axis and y axis and title lables.\n",
    "plt.xlabel(\"Driving Experience\")\n",
    "plt.ylabel(\"Number of Crashes\")\n",
    "plt.title(\"Number of Crashes for every Vehicle Driver against Driving Experience of Driver\")\n",
    "plt.legend()    # Add a legend for each vehicle driver.\n",
    "plt.show()      # Show the graph as output."
   ]
  },
  {
   "cell_type": "markdown",
   "metadata": {},
   "source": [
    "By plotting a best fit linear line, we can observe the relationship between Number of Crashes and Driving Experience.\n",
    "<br>\n",
    "<br>\n",
    "A general downward trend can be obeserved from the graph above. The Total Vehicle Driver goes downwards from around 250 to below 50. As driving experience increases, the number of crashes decreases. This could be implying that drivers which has more years and experience driving seldom get into crashes and accidents as they do not make rookie mistakes or are more alert while driving, being able to avoid accidents on the road. Driving Experience and Number of Crashes for Vehicle Drivers have an inverse relationship."
   ]
  },
  {
   "cell_type": "markdown",
   "metadata": {},
   "source": [
    "## Task A8"
   ]
  },
  {
   "cell_type": "markdown",
   "metadata": {},
   "source": [
    "### 1."
   ]
  },
  {
   "cell_type": "code",
   "execution_count": 31,
   "metadata": {},
   "outputs": [
    {
     "data": {
      "image/png": "[encoded data removed]",
      "text/plain": [
       "<Figure size 1000x450 with 1 Axes>"
      ]
     },
     "metadata": {},
     "output_type": "display_data"
    }
   ],
   "source": [
    "# Group the number of crashes with the year using the aggregate counting_vehicle_crashes.\n",
    "# Will include both vehicle and non-vehicle drivers.\n",
    "yearly_crash = a_road_deaths.groupby([\"Year\"]).agg(count_vehicle_crashes)\n",
    "\n",
    "# Rename the Road User to Number of Crashes for Car Drivers.\n",
    "yearly_crash.rename(\n",
    "    columns = {\"Road User\" : \"Number of Crashes\"},\n",
    "    inplace = True   # Replaces original dataset instead of creating a new one.\n",
    "    )\n",
    "\n",
    "# Flattens the table into one level.\n",
    "yearly_crash = yearly_crash.reset_index()\n",
    "\n",
    "# x-axis will be Driving experience while y will be the Number of Crashes for every vehicle driver.\n",
    "x = yearly_crash[\"Year\"]\n",
    "y = yearly_crash[\"Number of Crashes\"]\n",
    "x_axis = np.linspace(2014, 2022)    # How long the linear fit will be.\n",
    "\n",
    "# Calculate the Best fit line\n",
    "linear_fit = np.poly1d(np.polyfit(x, y, 1)) # Draw linear fit line with order of 1.\n",
    "\n",
    "# Plot a best fit line graph going through it.\n",
    "plt.figure(figsize=[10, 4.5])   # Expand the canvas size.\n",
    "plt.scatter(x, y)               # The actual truth values.\n",
    "plt.plot(x_axis, linear_fit(x_axis), \"-r\", linewidth=2) # Plot the linear model.\n",
    "\n",
    "# Set labels and titles.\n",
    "plt.xlabel(\"Year\")\n",
    "plt.ylabel(\"Number of Crashes\")\n",
    "plt.title(\"Total Number of Crashes per Year\")\n",
    "plt.show()"
   ]
  },
  {
   "cell_type": "markdown",
   "metadata": {},
   "source": [
    "Above is the best linear fit line for the graph of Number of Crashes plotted over Year. There is a general increase in the number of crashes as the years progresses."
   ]
  },
  {
   "cell_type": "markdown",
   "metadata": {},
   "source": [
    "### 2."
   ]
  },
  {
   "cell_type": "code",
   "execution_count": 32,
   "metadata": {},
   "outputs": [
    {
     "data": {
      "text/plain": [
       "1072.0"
      ]
     },
     "execution_count": 32,
     "metadata": {},
     "output_type": "execute_result"
    }
   ],
   "source": [
    "# Outputs the predicted number of crashes for 2022\n",
    "predict_linear_crash = linear_fit(2022)\n",
    "predict_linear_crash.round()    # Round it up as number of crashes cannot be in decimal."
   ]
  },
  {
   "cell_type": "markdown",
   "metadata": {},
   "source": [
    "In 2022, the number of crashes would be around 1072 crashes if following the linear model in the graph plotted above."
   ]
  },
  {
   "cell_type": "markdown",
   "metadata": {},
   "source": [
    "### 3."
   ]
  },
  {
   "cell_type": "markdown",
   "metadata": {},
   "source": [
    "The linear best fit line drawn above has a large bias as the actual points are scattered around the best fit line and is underfitting."
   ]
  },
  {
   "cell_type": "code",
   "execution_count": 33,
   "metadata": {},
   "outputs": [
    {
     "data": {
      "image/png": "[encoded data removed]",
      "text/plain": [
       "<Figure size 1200x650 with 1 Axes>"
      ]
     },
     "metadata": {},
     "output_type": "display_data"
    }
   ],
   "source": [
    "# Plot a poly fit graph\n",
    "plt.figure(figsize=[12, 6.5])               # Expand the canvas size.\n",
    "poly_fit = np.poly1d(np.polyfit(x, y, 3))   # Get the poly fit line. Use 3rd order poly.\n",
    "x_axis = np.linspace(2014, 2022)            # How long the poly line will be.\n",
    "plt.scatter(x, y)                           # Original truth values\n",
    "plt.plot(x_axis, poly_fit(x_axis), \"-r\", linewidth=2)   # Plot the poly model.\n",
    "\n",
    "# Set labels and titles.\n",
    "plt.xlabel(\"Year\")\n",
    "plt.ylabel(\"Number of Crashes\")\n",
    "plt.title(\"Total Number of Crashes per Year\")\n",
    "plt.show()"
   ]
  },
  {
   "cell_type": "markdown",
   "metadata": {},
   "source": [
    "The above model used is a better fit compared to the linear model used before. It has a lower bias compared to the linear model and the prediction is more accurate."
   ]
  },
  {
   "cell_type": "markdown",
   "metadata": {},
   "source": [
    "### 4."
   ]
  },
  {
   "cell_type": "code",
   "execution_count": 34,
   "metadata": {},
   "outputs": [
    {
     "data": {
      "text/plain": [
       "325.0"
      ]
     },
     "execution_count": 34,
     "metadata": {},
     "output_type": "execute_result"
    }
   ],
   "source": [
    "# Outputs the predicted number of crashes for 2022\n",
    "predict_poly_crash = poly_fit(2022)\n",
    "predict_poly_crash.round()   # Round it up as number of crashes cannot be in decimal."
   ]
  },
  {
   "cell_type": "markdown",
   "metadata": {},
   "source": [
    "In 2022, the number of crashes would be around 325 crashes if following the poly model in the graph plotted above."
   ]
  },
  {
   "cell_type": "markdown",
   "metadata": {},
   "source": [
    "## Task A9"
   ]
  },
  {
   "cell_type": "code",
   "execution_count": 35,
   "metadata": {},
   "outputs": [
    {
     "data": {
      "image/png": "[encoded data removed]",
      "text/plain": [
       "<Figure size 640x480 with 1 Axes>"
      ]
     },
     "metadata": {},
     "output_type": "display_data"
    }
   ],
   "source": [
    "# Gets the dataframe with only Age and Driving experience.\n",
    "age_driving_experience = a_road_deaths[[\"Age\", \"Driving experience\"]].copy()\n",
    "\n",
    "# Creates an aggregate function that averages the driving experiences and group it with their age.\n",
    "average_driving_experience = {\"Driving experience\": \"mean\"}\n",
    "mean_driving_experience = age_driving_experience.groupby([\"Age\"]).agg(average_driving_experience)\n",
    "\n",
    "# Flattens the table into one level.\n",
    "mean_driving_experience = mean_driving_experience.reset_index()\n",
    "\n",
    "# x and y axis values are Average Driving experience and Age respectively.\n",
    "x = mean_driving_experience[\"Driving experience\"]\n",
    "y = mean_driving_experience[\"Age\"]\n",
    "x_axis = np.linspace(0, 65)    # How long the poly fit will be.\n",
    "\n",
    "# Calculate the Best fit line\n",
    "poly_fit = np.poly1d(np.polyfit(x, y, 2)) # Draw poly fit line with order of 1.\n",
    "\n",
    "# Plot the truth scatter plot and the poly best fit line.\n",
    "plt.scatter(x, y)\n",
    "plt.plot(x_axis, poly_fit(x_axis), \"-r\", linewidth=2)\n",
    "\n",
    "# Add x and y axis labels and title.\n",
    "plt.xlabel(\"Average Driving Experience\")\n",
    "plt.ylabel(\"Age\")\n",
    "plt.title(\"Age of Vehicle Driver against Average Driving Experience of Driver\")\n",
    "plt.show()"
   ]
  },
  {
   "cell_type": "markdown",
   "metadata": {},
   "source": [
    "As found in A7, Age and Driving Experience has the highest correlation, so we can use this relationship to compare and predict the age of the counter-intuitive rows using their driving experience. A poly model is used instead of a linear regression model as it's a better fit with a lower bias compared to linear."
   ]
  },
  {
   "cell_type": "code",
   "execution_count": 36,
   "metadata": {},
   "outputs": [
    {
     "data": {
      "text/html": [
       "<div>\n",
       "<style scoped>\n",
       "    .dataframe tbody tr th:only-of-type {\n",
       "        vertical-align: middle;\n",
       "    }\n",
       "\n",
       "    .dataframe tbody tr th {\n",
       "        vertical-align: top;\n",
       "    }\n",
       "\n",
       "    .dataframe thead th {\n",
       "        text-align: right;\n",
       "    }\n",
       "</style>\n",
       "<table border=\"1\" class=\"dataframe\">\n",
       "  <thead>\n",
       "    <tr style=\"text-align: right;\">\n",
       "      <th></th>\n",
       "      <th>Age</th>\n",
       "    </tr>\n",
       "  </thead>\n",
       "  <tbody>\n",
       "    <tr>\n",
       "      <th>19</th>\n",
       "      <td>78</td>\n",
       "    </tr>\n",
       "    <tr>\n",
       "      <th>49</th>\n",
       "      <td>78</td>\n",
       "    </tr>\n",
       "    <tr>\n",
       "      <th>4638</th>\n",
       "      <td>78</td>\n",
       "    </tr>\n",
       "    <tr>\n",
       "      <th>6312</th>\n",
       "      <td>78</td>\n",
       "    </tr>\n",
       "  </tbody>\n",
       "</table>\n",
       "</div>"
      ],
      "text/plain": [
       "      Age\n",
       "19     78\n",
       "49     78\n",
       "4638   78\n",
       "6312   78"
      ]
     },
     "execution_count": 36,
     "metadata": {},
     "output_type": "execute_result"
    }
   ],
   "source": [
    "# Replaces all the counter-intuitive values found in A6.2 to their predicted age based on their driving experience.\n",
    "for error_index in index_error:\n",
    "    # Get their driving experience based on the index.\n",
    "    driving_experience = a_road_deaths.loc[error_index, \"Driving experience\"]\n",
    "    # Find predicted age based on their driving experiences. Round the numbers as age is not a decimal number.\n",
    "    predicted_age = poly_fit(driving_experience).round()\n",
    "    # Set their age to the new predicted age found above.\n",
    "    a_road_deaths.loc[error_index, \"Age\"] = predicted_age\n",
    "\n",
    "# Print out the counter-intuitive rows with their Ages now replaced with the poly model-based predicted values.\n",
    "a_road_deaths.filter(items=index_error, axis=0)[[\"Age\"]]"
   ]
  },
  {
   "cell_type": "markdown",
   "metadata": {},
   "source": [
    "Get the predicted age for the counter-intuitive rows based on their Driving Experience. Since the rows with (-999) have a Driving Experience of 40, their predicted age based on the poly model is 78. Replace all the counter-intuitive values in the Age column from 0 to 78."
   ]
  },
  {
   "cell_type": "markdown",
   "metadata": {},
   "source": [
    "# Task B"
   ]
  },
  {
   "cell_type": "code",
   "execution_count": 37,
   "metadata": {},
   "outputs": [],
   "source": [
    "# Read the CSV and assign it to variable song_dataset.\n",
    "song_dataset = pd.read_csv(\"song_data.csv\")"
   ]
  },
  {
   "cell_type": "markdown",
   "metadata": {},
   "source": [
    "## Task B1"
   ]
  },
  {
   "cell_type": "markdown",
   "metadata": {},
   "source": [
    "### 1."
   ]
  },
  {
   "cell_type": "code",
   "execution_count": 38,
   "metadata": {},
   "outputs": [],
   "source": [
    "# Input\n",
    "input = song_dataset.iloc[:, [3, 4, 5, 6, 8, 11, 14]].values    # Acousticness, Danceability, Energy, Instrumentalness, Liveness, Speechiness, Audio Valance.\n",
    "# Output\n",
    "output = song_dataset.iloc[:, 1].values                         # Song popularity.\n",
    "\n",
    "# Split for 75% being training set and 25% being testing set.\n",
    "input_train, input_test, output_train, output_test = train_test_split(\n",
    "    input, output, test_size = 0.25, random_state = 0\n",
    ")"
   ]
  },
  {
   "cell_type": "markdown",
   "metadata": {},
   "source": [
    "The X (Audio features) and y (Truth song popularity) are split into 75% for training set and 25% being the testing set."
   ]
  },
  {
   "cell_type": "markdown",
   "metadata": {},
   "source": [
    "### 2."
   ]
  },
  {
   "cell_type": "code",
   "execution_count": 39,
   "metadata": {},
   "outputs": [],
   "source": [
    "# Normalisation/Feature Scaling\n",
    "sc = StandardScaler()\n",
    "input_train = sc.fit_transform(input_train)\n",
    "input_test = sc.transform(input_test)\n",
    "\n",
    "# Fit the tree_classifier to the Training set.\n",
    "tree_classifier = DecisionTreeClassifier(\n",
    " criterion = \"entropy\", random_state = 0\n",
    ")\n",
    "tree_classifier = tree_classifier.fit(input_train, output_train)"
   ]
  },
  {
   "cell_type": "markdown",
   "metadata": {},
   "source": [
    "A Decision Tree model is used for the training set. 75% of the song dataset is used in the training model."
   ]
  },
  {
   "cell_type": "markdown",
   "metadata": {},
   "source": [
    "### 3."
   ]
  },
  {
   "cell_type": "code",
   "execution_count": 40,
   "metadata": {},
   "outputs": [
    {
     "data": {
      "image/png": "[encoded data removed]",
      "text/plain": [
       "<Figure size 640x480 with 2 Axes>"
      ]
     },
     "metadata": {},
     "output_type": "display_data"
    }
   ],
   "source": [
    "# Produce the predicted song popularity using the decision tree model.\n",
    "output_predict = tree_classifier.predict(input_test)\n",
    "# Create the confusion matrix normalized towards the entire training model to display accuracy of each class over the whole model.\n",
    "# Accuracy = (True Positive / Total Predictions)\n",
    "matrix_accuracy = confusion_matrix(output_test, output_predict, normalize=\"all\", labels=tree_classifier.classes_)\n",
    "# Display the normalized confusion matrix.\n",
    "matrix_display = ConfusionMatrixDisplay(confusion_matrix=matrix_accuracy, display_labels=tree_classifier.classes_)\n",
    "matrix_display.plot()\n",
    "plt.title(\"Confusion Matrix Overall Accuracy of Predictions\")\n",
    "plt.show()"
   ]
  },
  {
   "cell_type": "markdown",
   "metadata": {},
   "source": [
    "Above shows the normalized confusion matrix outputs based on our training and testing values. The values represents the ratio of frequency of the predicted labels over the total number of predictions made."
   ]
  },
  {
   "cell_type": "code",
   "execution_count": 41,
   "metadata": {},
   "outputs": [
    {
     "data": {
      "text/plain": [
       "49.8"
      ]
     },
     "execution_count": 41,
     "metadata": {},
     "output_type": "execute_result"
    }
   ],
   "source": [
    "overall_accuracy = 0    # The overall accuracy of the whole training model used.\n",
    "\n",
    "# Loop through the matrix and find the total correct predictions and the total predictions.\n",
    "for column in range(len(matrix_accuracy)):\n",
    "    overall_accuracy += matrix_accuracy[column][column]    # Calculate the total correct predictions for each row and then sum them.\n",
    "\n",
    "# Calculate the overall accuracy of the model using the formula (Total Number of Correct Predictions / Total Number of Predictions)\n",
    "overall_accuracy *= 100\n",
    "overall_accuracy.round(1)   # Round it up to one decimal place."
   ]
  },
  {
   "cell_type": "markdown",
   "metadata": {},
   "source": [
    "As shown above, the overall accuracy of the multi-class classification is `49.8%`."
   ]
  },
  {
   "cell_type": "markdown",
   "metadata": {},
   "source": [
    "### 4."
   ]
  },
  {
   "cell_type": "markdown",
   "metadata": {},
   "source": [
    "One issue with using the overall accuracy of the multi-class classification, is that it ignores individual class-level metrics. This is a problem as certain class will have higher accuracy rates compared to others which will skew the overall accuracy rate of the entire model, giving a false impression of an accurate and reliable training model."
   ]
  },
  {
   "cell_type": "code",
   "execution_count": 42,
   "metadata": {},
   "outputs": [
    {
     "name": "stdout",
     "output_type": "stream",
     "text": [
      "              precision    recall  f1-score   support\n",
      "\n",
      "           1       0.23      0.21      0.22       471\n",
      "           2       0.32      0.30      0.31       732\n",
      "           3       0.51      0.47      0.49      1591\n",
      "           4       0.56      0.61      0.59      1518\n",
      "           5       0.73      0.89      0.80       397\n",
      "\n",
      "    accuracy                           0.50      4709\n",
      "   macro avg       0.47      0.50      0.48      4709\n",
      "weighted avg       0.49      0.50      0.49      4709\n",
      "\n"
     ]
    }
   ],
   "source": [
    "# Print a classification report for our model.\n",
    "print(classification_report(output_test, output_predict))"
   ]
  },
  {
   "cell_type": "markdown",
   "metadata": {},
   "source": [
    "Above shows a classification report of our model. Precision is the percentage of correct predictions of a class among all other predictions for that class done by our model.\n",
    "<br>\n",
    "For example, the prediction of song popularity number 5 is `73%` which is high, however the song popularity number 1 has a prediction valie of `23%` which is abysmally low.\n",
    "<br>\n",
    "<br>\n",
    "We can also look at the recall column for further insight on our model. Recall is the percentage of correct predictions of a class and the total frequency of that class.\n",
    "<br>\n",
    "For example, the prediction of song popularity number 5 is `89%` which is high, however the song popularity number 1 has a prediction valie of `21%` which is abysmally low\n",
    "<br>\n",
    "<br>\n",
    "So the overall accuracy, which is `49.8%` is misleading as there are some classes with very low accuracy/prediction/recall, while some classes are higher. This results in a poor prediction model."
   ]
  },
  {
   "cell_type": "markdown",
   "metadata": {},
   "source": [
    "## Task B2"
   ]
  },
  {
   "cell_type": "markdown",
   "metadata": {},
   "source": [
    "Link to dataset used: https://www.kaggle.com/datasets/raghurayirath/population-growth-vs-forest-cover"
   ]
  },
  {
   "cell_type": "code",
   "execution_count": 43,
   "metadata": {},
   "outputs": [
    {
     "data": {
      "image/png": "[encoded data removed]",
      "text/plain": [
       "<Figure size 1000x450 with 1 Axes>"
      ]
     },
     "metadata": {},
     "output_type": "display_data"
    }
   ],
   "source": [
    "# Read the forest-cover-v1.xlsx file and assign the dataframe to forest_cover\n",
    "forest_cover = pd.read_excel(\"forest-cover-v1.xlsx\")\n",
    "\n",
    "# Remove missing values and extreme outlier from dataframe.\n",
    "forest_cover.dropna(inplace=True)\n",
    "largest = forest_cover.nlargest(n = 1, columns = \"Population Density (per kmÂ²)\")\n",
    "forest_cover = forest_cover.drop(largest.index)\n",
    "\n",
    "# Run the K-means clustering over the forest_cover dataset using only the Population Density (per kmÂ²) column and the Forest Area 2020 column.\n",
    "forest_cover_kmeans = KMeans(n_clusters = 4).fit(\n",
    "    forest_cover[[\"Population Density (per kmÂ²)\", \"Forest Area 2020\"]]\n",
    ")\n",
    "\n",
    "# Visualise the output labels\n",
    "plt.figure(figsize=[10, 4.5])   # Expand the canvas size.\n",
    "# Plot the scatter for Forest Area in 2020 against population density\n",
    "plt.scatter(\n",
    "    x = forest_cover[\"Population Density (per kmÂ²)\"],\n",
    "    y = forest_cover[\"Forest Area 2020\"], \n",
    "    c = forest_cover_kmeans.labels_)\n",
    "\n",
    "# Visualise the cluster centers (black stars)\n",
    "plt.plot(\n",
    "    forest_cover_kmeans.cluster_centers_[:, 0],\n",
    "    forest_cover_kmeans.cluster_centers_[:, 1],\n",
    "    \"k*\",\n",
    "    markersize = 20\n",
    ")\n",
    "# Add axis labels and titles.\n",
    "plt.xlabel(\"Population Density per kmÂ²\")\n",
    "plt.ylabel(\"Forest Area in 2020 in kmÂ²\")\n",
    "plt.title(\"Population Density per kmÂ² of a Country and their Forest Area for 2020 in kmÂ²\")\n",
    "plt.show()"
   ]
  },
  {
   "cell_type": "markdown",
   "metadata": {},
   "source": [
    "There are 4 clusters found in the k-clustering done above. The graph displays the Forest Area of a country in 2020 in kmÂ² against their Population Density per kmÂ². What each cluster represents is the developness of a nation. \n",
    "<br>\n",
    "<br>\n",
    "The purple cluster are undeveloped, rural-based nations hence having a low population density as their cities are not centralised and people are spread throughout the country. In addition, they would have more Forest Area as less of their forest is cut down to make way for houses/buldings/farms etc.\n",
    "<br>\n",
    "The yellow cluster represent developing nations. As country develop, they shift their econmical focus on the secondary sector, therefore cutting down more forests to make products or make space for factories. As a result, the Forest Area will decrease. Furthermore, people will start to move into cities for job opportunities. Due to this, the population density will grow too.\n",
    "<br>\n",
    "The green cluster represents developed nations. As the economy booms, deforestation increases to fuel their growing industry. Because of this, the Forest Area in those countries shrink rapidly. In addition, rapid urbanization wil lead to a rise in population density as more and more people live in cities instead of the countryside.\n",
    "<br>\n",
    "The last blue cluster represent highly developed nations or micro-nations. As micro-nations do not have much space, high-rise buildings are preferred hence a higher population density. As they also do not have much space within their borders, almost all forests will be removed.\n",
    "<br>\n",
    "<br>\n",
    "Overall, each cluster will represent a nation with varying level of \"developness\" or income."
   ]
  }
 ],
 "metadata": {
  "kernelspec": {
   "display_name": "Python 3.10.6 64-bit",
   "language": "python",
   "name": "python3"
  },
  "language_info": {
   "codemirror_mode": {
    "name": "ipython",
    "version": 3
   },
   "file_extension": ".py",
   "mimetype": "text/x-python",
   "name": "python",
   "nbconvert_exporter": "python",
   "pygments_lexer": "ipython3",
   "version": "3.10.6"
  },
  "orig_nbformat": 4,
  "vscode": {
   "interpreter": {
    "hash": "95cdb06e919eab5e2c554174537356ac9b55200d1eb6f880dc25de04343a18ea"
   }
  }
 },
 "nbformat": 4,
 "nbformat_minor": 2
}
